{
 "cells": [
  {
   "cell_type": "markdown",
   "id": "57eedf0b-7c59-4cd9-b1aa-377d4eba70e1",
   "metadata": {},
   "source": [
    "# DataAnalyst CapStone Project - 'Identifying and Recommending Best Restaurants'"
   ]
  },
  {
   "cell_type": "markdown",
   "id": "98f28225-7c6e-45bd-baad-f825f20012b4",
   "metadata": {},
   "source": [
    "## - Preliminary Data Analysis"
   ]
  },
  {
   "cell_type": "code",
   "execution_count": 410,
   "id": "c534ace6-4523-4496-b707-fcd5e89dfd0d",
   "metadata": {},
   "outputs": [],
   "source": [
    "import numpy as np\n",
    "import pandas as pd\n",
    "import matplotlib.pyplot as plt\n",
    "import seaborn as sns\n",
    "%matplotlib inline \n",
    "\n",
    "\n",
    "from sklearn.model_selection import train_test_split\n",
    "from sklearn.preprocessing import MultiLabelBinarizer, OneHotEncoder, StandardScaler\n",
    "from sklearn.impute import SimpleImputer"
   ]
  },
  {
   "cell_type": "code",
   "execution_count": 411,
   "id": "4f5c0acc-05e7-4bfd-b83b-4c079105296e",
   "metadata": {},
   "outputs": [],
   "source": [
    "restaurant_df = pd.read_csv(r\"C:\\Users\\ImmanuelAdewumi\\OneDrive - JCW Resourcing\\Xander Talent\\CapStone Project\\1582800386_project1datadictionary\\data.csv\")"
   ]
  },
  {
   "cell_type": "code",
   "execution_count": 412,
   "id": "f0b81ed0-bb1f-4574-9257-8995e96db0e4",
   "metadata": {},
   "outputs": [
    {
     "data": {
      "text/html": [
       "<div>\n",
       "<style scoped>\n",
       "    .dataframe tbody tr th:only-of-type {\n",
       "        vertical-align: middle;\n",
       "    }\n",
       "\n",
       "    .dataframe tbody tr th {\n",
       "        vertical-align: top;\n",
       "    }\n",
       "\n",
       "    .dataframe thead th {\n",
       "        text-align: right;\n",
       "    }\n",
       "</style>\n",
       "<table border=\"1\" class=\"dataframe\">\n",
       "  <thead>\n",
       "    <tr style=\"text-align: right;\">\n",
       "      <th></th>\n",
       "      <th>0</th>\n",
       "      <th>1</th>\n",
       "    </tr>\n",
       "  </thead>\n",
       "  <tbody>\n",
       "    <tr>\n",
       "      <th>Restaurant ID</th>\n",
       "      <td>7402935</td>\n",
       "      <td>7410290</td>\n",
       "    </tr>\n",
       "    <tr>\n",
       "      <th>Restaurant Name</th>\n",
       "      <td>Skye</td>\n",
       "      <td>Satoo - Hotel Shangri-La</td>\n",
       "    </tr>\n",
       "    <tr>\n",
       "      <th>Country Code</th>\n",
       "      <td>94</td>\n",
       "      <td>94</td>\n",
       "    </tr>\n",
       "    <tr>\n",
       "      <th>City</th>\n",
       "      <td>Jakarta</td>\n",
       "      <td>Jakarta</td>\n",
       "    </tr>\n",
       "    <tr>\n",
       "      <th>Address</th>\n",
       "      <td>Menara BCA, Lantai 56, Jl. MH. Thamrin, Thamri...</td>\n",
       "      <td>Hotel Shangri-La, Jl. Jend. Sudirman</td>\n",
       "    </tr>\n",
       "    <tr>\n",
       "      <th>Locality</th>\n",
       "      <td>Grand Indonesia Mall, Thamrin</td>\n",
       "      <td>Hotel Shangri-La, Sudirman</td>\n",
       "    </tr>\n",
       "    <tr>\n",
       "      <th>Locality Verbose</th>\n",
       "      <td>Grand Indonesia Mall, Thamrin, Jakarta</td>\n",
       "      <td>Hotel Shangri-La, Sudirman, Jakarta</td>\n",
       "    </tr>\n",
       "    <tr>\n",
       "      <th>Longitude</th>\n",
       "      <td>106.821999</td>\n",
       "      <td>106.818961</td>\n",
       "    </tr>\n",
       "    <tr>\n",
       "      <th>Latitude</th>\n",
       "      <td>-6.196778</td>\n",
       "      <td>-6.203292</td>\n",
       "    </tr>\n",
       "    <tr>\n",
       "      <th>Cuisines</th>\n",
       "      <td>Italian, Continental</td>\n",
       "      <td>Asian, Indonesian, Western</td>\n",
       "    </tr>\n",
       "    <tr>\n",
       "      <th>Average Cost for two</th>\n",
       "      <td>800000</td>\n",
       "      <td>800000</td>\n",
       "    </tr>\n",
       "    <tr>\n",
       "      <th>Currency</th>\n",
       "      <td>Indonesian Rupiah(IDR)</td>\n",
       "      <td>Indonesian Rupiah(IDR)</td>\n",
       "    </tr>\n",
       "    <tr>\n",
       "      <th>Has Table booking</th>\n",
       "      <td>No</td>\n",
       "      <td>No</td>\n",
       "    </tr>\n",
       "    <tr>\n",
       "      <th>Has Online delivery</th>\n",
       "      <td>No</td>\n",
       "      <td>No</td>\n",
       "    </tr>\n",
       "    <tr>\n",
       "      <th>Price range</th>\n",
       "      <td>3</td>\n",
       "      <td>3</td>\n",
       "    </tr>\n",
       "    <tr>\n",
       "      <th>Aggregate rating</th>\n",
       "      <td>4.1</td>\n",
       "      <td>4.6</td>\n",
       "    </tr>\n",
       "    <tr>\n",
       "      <th>Rating color</th>\n",
       "      <td>Green</td>\n",
       "      <td>Dark Green</td>\n",
       "    </tr>\n",
       "    <tr>\n",
       "      <th>Rating text</th>\n",
       "      <td>Very Good</td>\n",
       "      <td>Excellent</td>\n",
       "    </tr>\n",
       "    <tr>\n",
       "      <th>Votes</th>\n",
       "      <td>1498</td>\n",
       "      <td>873</td>\n",
       "    </tr>\n",
       "  </tbody>\n",
       "</table>\n",
       "</div>"
      ],
      "text/plain": [
       "                                                                      0  \\\n",
       "Restaurant ID                                                   7402935   \n",
       "Restaurant Name                                                    Skye   \n",
       "Country Code                                                         94   \n",
       "City                                                            Jakarta   \n",
       "Address               Menara BCA, Lantai 56, Jl. MH. Thamrin, Thamri...   \n",
       "Locality                                  Grand Indonesia Mall, Thamrin   \n",
       "Locality Verbose                 Grand Indonesia Mall, Thamrin, Jakarta   \n",
       "Longitude                                                    106.821999   \n",
       "Latitude                                                      -6.196778   \n",
       "Cuisines                                           Italian, Continental   \n",
       "Average Cost for two                                             800000   \n",
       "Currency                                         Indonesian Rupiah(IDR)   \n",
       "Has Table booking                                                    No   \n",
       "Has Online delivery                                                  No   \n",
       "Price range                                                           3   \n",
       "Aggregate rating                                                    4.1   \n",
       "Rating color                                                      Green   \n",
       "Rating text                                                   Very Good   \n",
       "Votes                                                              1498   \n",
       "\n",
       "                                                         1  \n",
       "Restaurant ID                                      7410290  \n",
       "Restaurant Name                   Satoo - Hotel Shangri-La  \n",
       "Country Code                                            94  \n",
       "City                                               Jakarta  \n",
       "Address               Hotel Shangri-La, Jl. Jend. Sudirman  \n",
       "Locality                        Hotel Shangri-La, Sudirman  \n",
       "Locality Verbose       Hotel Shangri-La, Sudirman, Jakarta  \n",
       "Longitude                                       106.818961  \n",
       "Latitude                                         -6.203292  \n",
       "Cuisines                        Asian, Indonesian, Western  \n",
       "Average Cost for two                                800000  \n",
       "Currency                            Indonesian Rupiah(IDR)  \n",
       "Has Table booking                                       No  \n",
       "Has Online delivery                                     No  \n",
       "Price range                                              3  \n",
       "Aggregate rating                                       4.6  \n",
       "Rating color                                    Dark Green  \n",
       "Rating text                                      Excellent  \n",
       "Votes                                                  873  "
      ]
     },
     "execution_count": 412,
     "metadata": {},
     "output_type": "execute_result"
    }
   ],
   "source": [
    "## DO NOT CHANGE\n",
    "## TO DO: Skim through all the columns. There are a lot of columns that we don't need right now.\n",
    "pd.options.display.max_rows = restaurant_df.shape[1]\n",
    "restaurant_df.head(2).T"
   ]
  },
  {
   "cell_type": "markdown",
   "id": "51dea098-8300-4c4d-af69-1c33a4a8f41d",
   "metadata": {},
   "source": [
    "#### Observations\n",
    "- Columns which are Numerical or to be Converted to Numerical are;\n",
    "1. Restaurant ID\n",
    "2. Country Code\n",
    "3. Longitude\n",
    "4. Latitude\n",
    "5. Average Cost for two\n",
    "6. Price range\n",
    "7. Aggregate rating\n",
    "8. Votes\n",
    "\n",
    "- Missing Values Occur for Nan/Null Values, but also for instances where these numerical Columns have values of 0"
   ]
  },
  {
   "cell_type": "markdown",
   "id": "dbb635cd-079e-437d-b308-269bd89e068d",
   "metadata": {},
   "source": [
    "#### Conversion - Categorical Variables to Numerical"
   ]
  },
  {
   "cell_type": "code",
   "execution_count": 413,
   "id": "b7af927e-9329-4678-a41c-2e7323966b00",
   "metadata": {},
   "outputs": [],
   "source": [
    "cat_to_num = ['Restaurant ID', 'Country Code', 'Longitude', 'Latitude', 'Average Cost for two', 'Price range', 'Aggregate rating', 'Votes']"
   ]
  },
  {
   "cell_type": "code",
   "execution_count": 414,
   "id": "0cb1ab13-d38a-44f4-beeb-8b7f735175f2",
   "metadata": {},
   "outputs": [],
   "source": [
    "# For each Column Convert to Float\n",
    "\n",
    "for col in cat_to_num:\n",
    "    restaurant_df[col] = restaurant_df[col].astype(float)"
   ]
  },
  {
   "cell_type": "markdown",
   "id": "a98d5547-264d-4bca-ab4a-f8670876182d",
   "metadata": {},
   "source": [
    "#### Checking for Duplicates "
   ]
  },
  {
   "cell_type": "code",
   "execution_count": 415,
   "id": "c23d9d5e-7905-43f4-81c0-d4c154eb2e49",
   "metadata": {},
   "outputs": [
    {
     "data": {
      "text/plain": [
       "0       False\n",
       "1       False\n",
       "2       False\n",
       "3       False\n",
       "4       False\n",
       "        ...  \n",
       "9546    False\n",
       "9547    False\n",
       "9548    False\n",
       "9549    False\n",
       "9550    False\n",
       "Length: 9551, dtype: bool"
      ]
     },
     "execution_count": 415,
     "metadata": {},
     "output_type": "execute_result"
    }
   ],
   "source": [
    "restaurant_df.duplicated()"
   ]
  },
  {
   "cell_type": "code",
   "execution_count": 416,
   "id": "e4ec512e-fbe4-47ad-b14e-3f20bc15b576",
   "metadata": {},
   "outputs": [
    {
     "data": {
      "text/plain": [
       "(9551, 19)"
      ]
     },
     "execution_count": 416,
     "metadata": {},
     "output_type": "execute_result"
    }
   ],
   "source": [
    "restaurant_df.shape"
   ]
  },
  {
   "cell_type": "code",
   "execution_count": 417,
   "id": "850da35d-43f2-4d4c-ad6d-414e2e7a027a",
   "metadata": {},
   "outputs": [],
   "source": [
    "df = restaurant_df.drop_duplicates()"
   ]
  },
  {
   "cell_type": "code",
   "execution_count": 418,
   "id": "7c7e6bf7-7886-498d-889e-1553f3c2e5bd",
   "metadata": {},
   "outputs": [
    {
     "data": {
      "text/plain": [
       "(9551, 19)"
      ]
     },
     "execution_count": 418,
     "metadata": {},
     "output_type": "execute_result"
    }
   ],
   "source": [
    "df.shape"
   ]
  },
  {
   "cell_type": "markdown",
   "id": "be59f283-8b5e-4b46-914c-33f271b7122f",
   "metadata": {},
   "source": [
    "A First double-check Shows us that there are No Duplicates to be Found"
   ]
  },
  {
   "cell_type": "markdown",
   "id": "59fb7ff3-f1ae-4ac8-8d50-0f6192c17a2e",
   "metadata": {},
   "source": [
    "#### Checking for Missing (Na & Null) Values\n",
    "- For Numeric DataTypes Missing Data shows up as Zeros or Nulls whereas it shows up as blanks for Categorical data."
   ]
  },
  {
   "cell_type": "code",
   "execution_count": 419,
   "id": "624c4dff-d5a3-4b0f-9e90-c1946cf70b7d",
   "metadata": {},
   "outputs": [
    {
     "data": {
      "text/plain": [
       "Restaurant ID           0\n",
       "Restaurant Name         0\n",
       "Country Code            0\n",
       "City                    0\n",
       "Address                 0\n",
       "Locality                0\n",
       "Locality Verbose        0\n",
       "Longitude               0\n",
       "Latitude                0\n",
       "Cuisines                9\n",
       "Average Cost for two    0\n",
       "Currency                0\n",
       "Has Table booking       0\n",
       "Has Online delivery     0\n",
       "Price range             0\n",
       "Aggregate rating        0\n",
       "Rating color            0\n",
       "Rating text             0\n",
       "Votes                   0\n",
       "dtype: int64"
      ]
     },
     "execution_count": 419,
     "metadata": {},
     "output_type": "execute_result"
    }
   ],
   "source": [
    "df.isnull().sum()"
   ]
  },
  {
   "cell_type": "code",
   "execution_count": 421,
   "id": "d9e635b8-2e27-4680-94c4-8661dcc4b174",
   "metadata": {},
   "outputs": [
    {
     "data": {
      "text/plain": [
       "Restaurant ID           0\n",
       "Restaurant Name         0\n",
       "Country Code            0\n",
       "City                    0\n",
       "Address                 0\n",
       "Locality                0\n",
       "Locality Verbose        0\n",
       "Longitude               0\n",
       "Latitude                0\n",
       "Cuisines                9\n",
       "Average Cost for two    0\n",
       "Currency                0\n",
       "Has Table booking       0\n",
       "Has Online delivery     0\n",
       "Price range             0\n",
       "Aggregate rating        0\n",
       "Rating color            0\n",
       "Rating text             0\n",
       "Votes                   0\n",
       "dtype: int64"
      ]
     },
     "execution_count": 421,
     "metadata": {},
     "output_type": "execute_result"
    }
   ],
   "source": [
    "df.isna().sum()"
   ]
  },
  {
   "cell_type": "code",
   "execution_count": 422,
   "id": "31530a6e-e366-4c58-b509-cc2ce6635c60",
   "metadata": {},
   "outputs": [
    {
     "name": "stdout",
     "output_type": "stream",
     "text": [
      "<class 'pandas.core.frame.DataFrame'>\n",
      "Int64Index: 9551 entries, 0 to 9550\n",
      "Data columns (total 19 columns):\n",
      " #   Column                Non-Null Count  Dtype  \n",
      "---  ------                --------------  -----  \n",
      " 0   Restaurant ID         9551 non-null   float64\n",
      " 1   Restaurant Name       9551 non-null   object \n",
      " 2   Country Code          9551 non-null   float64\n",
      " 3   City                  9551 non-null   object \n",
      " 4   Address               9551 non-null   object \n",
      " 5   Locality              9551 non-null   object \n",
      " 6   Locality Verbose      9551 non-null   object \n",
      " 7   Longitude             9551 non-null   float64\n",
      " 8   Latitude              9551 non-null   float64\n",
      " 9   Cuisines              9542 non-null   object \n",
      " 10  Average Cost for two  9551 non-null   float64\n",
      " 11  Currency              9551 non-null   object \n",
      " 12  Has Table booking     9551 non-null   object \n",
      " 13  Has Online delivery   9551 non-null   object \n",
      " 14  Price range           9551 non-null   float64\n",
      " 15  Aggregate rating      9551 non-null   float64\n",
      " 16  Rating color          9551 non-null   object \n",
      " 17  Rating text           9551 non-null   object \n",
      " 18  Votes                 9551 non-null   float64\n",
      "dtypes: float64(8), object(11)\n",
      "memory usage: 1.5+ MB\n"
     ]
    }
   ],
   "source": [
    "df.info()"
   ]
  },
  {
   "cell_type": "markdown",
   "id": "4329dc83-bf70-45d0-8e49-7fb7b30883d4",
   "metadata": {},
   "source": [
    "- Both checking methods and results above show that the Column 'Cuisines' has the highers number of Null (Missing) values, with 9 missing values.\n",
    "- We Remove the rows with these missing Values below and do a second check."
   ]
  },
  {
   "cell_type": "markdown",
   "id": "0cfc0d3a-cf43-4ca5-ba26-48cec7aa26bc",
   "metadata": {},
   "source": [
    "### Checking for Zeros "
   ]
  },
  {
   "cell_type": "code",
   "execution_count": 423,
   "id": "6fb616d2-844b-4b28-82ef-7c40c1408d70",
   "metadata": {},
   "outputs": [
    {
     "name": "stdout",
     "output_type": "stream",
     "text": [
      "Restaurant ID's Zeros Count is 0\n",
      "Country Code's Zeros Count is 0\n",
      "Longitude's Zeros Count is 498\n",
      "Latitude's Zeros Count is 498\n",
      "Average Cost for two's Zeros Count is 18\n",
      "Price range's Zeros Count is 0\n",
      "Aggregate rating's Zeros Count is 2148\n",
      "Votes's Zeros Count is 1094\n",
      "Total number of Rows is 9551\n"
     ]
    }
   ],
   "source": [
    "for col in cat_to_num:\n",
    "    counter = 0\n",
    "    total_counter = 0\n",
    "    for x in df[col]:\n",
    "        total_counter += 1\n",
    "        if x == 0.0:\n",
    "            counter += 1\n",
    "    print(col + '\\'s Zeros Count is ' + str(counter))\n",
    "\n",
    "print('Total number of Rows is ' + str(total_counter))\n",
    "        \n",
    "    #df[col] = df[col].astype(float)"
   ]
  },
  {
   "cell_type": "markdown",
   "id": "287abb94-3aa6-4c10-b655-50a156e634cb",
   "metadata": {},
   "source": [
    "These results show that;\n",
    "- Longitude/Latitude Measurements have 498 missing values\n",
    "- 'Average Cost for two' Measurements might likely have 18 missing values, unless missing restaurants provide food\n",
    "- Aggregate rating Measurements are to be between 1-5 so the 2148 measurements of Zero show instances of No Ratings or Missing Values\n",
    "- 1094 Resaurants either received Zero votes or have 1094 missing records"
   ]
  },
  {
   "cell_type": "markdown",
   "id": "c5b585e7-9ed3-486f-8cea-169f2aea6f1a",
   "metadata": {},
   "source": [
    "## Performing EDA - Part 1"
   ]
  },
  {
   "cell_type": "markdown",
   "id": "dc6e265b-7079-43c9-bf37-fc703090c342",
   "metadata": {},
   "source": [
    "### Restaurants per City"
   ]
  },
  {
   "cell_type": "code",
   "execution_count": 424,
   "id": "9f402c9f-0cf8-4e28-b39a-b9643008bae3",
   "metadata": {},
   "outputs": [
    {
     "name": "stdout",
     "output_type": "stream",
     "text": [
      "Number of Cities are 141\n",
      "List of Cities are ['Jakarta', 'Tangerang', 'Bogor', 'Bandung', 'New Delhi', 'Pasay City', 'Gurgaon', 'Colombo', 'Mandaluyong City', 'Agra', 'Noida', 'Pretoria', 'Taguig City', 'Kanpur', 'Ghaziabad', 'Jaipur', 'Bangalore', 'Chandigarh', 'Pune', 'Chennai', 'Goa', 'Hyderabad', 'Indore', 'Lucknow', 'Ludhiana', 'Panchkula', 'Ranchi', 'Faridabad', 'Kolkata', 'Ahmedabad', 'Aurangabad', 'Bhopal', 'Mysore', 'Vizag', 'Guwahati', 'Dehradun', 'Mangalore', 'Nagpur', 'Patna', 'Inner City', 'Bhubaneshwar', 'Coimbatore', 'Kochi', 'Mumbai', 'Nashik', 'Puducherry', 'Surat', 'Vadodara', 'Makati City', 'Tagaytay City', 'Amritsar', 'Pasig City', 'Varanasi', 'San Juan City', 'Allahabad', 'Johannesburg', 'Santa Rosa', 'Secunderabad', 'Quezon City', 'Cape Town', 'Mohali', 'Doha', 'Sandton', 'Singapore', 'Abu Dhabi', 'Dubai', 'SÌ£o Paulo', 'Ankara', 'BrasÌ_lia', 'Rio de Janeiro', 'Sharjah', 'London', 'Wellington City', 'Randburg', 'Auckland', '€¡stanbul', 'Manchester', 'Paynesville', 'Birmingham', 'Orlando', 'Edinburgh', 'Albany', 'Boise', 'Davenport', 'Des Moines', 'Dubuque', 'Macon', 'Princeton', 'Rest of Hawaii', 'Savannah', 'Sioux City', 'Tampa Bay', 'Valdosta', 'Vineland Station', 'Pocatello', 'Athens', 'Augusta', 'Cedar Rapids/Iowa City', 'Columbus', 'Dalton', 'Gainesville', 'Ojo Caliente', 'Pensacola', 'Waterloo', 'Flaxton', 'Middleton Beach', 'Montville', 'Palm Cove', 'Tanunda', 'Chatham-Kent', 'Cochrane', 'Consort', 'Lincoln', 'Monroe', 'Potrero', 'Weirton', 'Winchester Bay', 'Yorkton', 'Armidale', 'Balingup', 'Beechworth', 'East Ballina', 'Forrest', 'Hepburn Springs', 'Huskisson', 'Lorn', 'Macedon', 'Mayfield', 'Penola', 'Phillip Island', 'Trentham East', 'Victor Harbor', 'Clatskanie', 'Fernley', 'Lakeview', 'Mc Millan', 'Vernonia', 'Dicky Beach', 'Inverloch', 'Lakes Entrance', 'Miller']\n"
     ]
    }
   ],
   "source": [
    "#Counting the Number of Cities\n",
    "\n",
    "\n",
    "cities = []\n",
    "for x in df['City']:\n",
    "    if x not in cities:\n",
    "        cities.append(x)\n",
    "        \n",
    "print('Number of Cities are ' +str(len(cities)))\n",
    "print('List of Cities are '+str(cities))"
   ]
  },
  {
   "cell_type": "code",
   "execution_count": 425,
   "id": "7410c083-ee47-41ca-863e-456a577df468",
   "metadata": {},
   "outputs": [],
   "source": [
    "city_restaurant_no = []\n",
    "restaurant_freq = []\n",
    "\n",
    "Overall_Total_Restaurants = 0   #This is to Check that it all adds to 9551\n",
    "\n",
    "for x in cities:\n",
    "    total = len(df[df.City == x])\n",
    "    #print('Total for '+ x + ' is '+str(total))\n",
    "    city_restaurant_no.append([x,total])\n",
    "    restaurant_freq.append(total)\n",
    "    Overall_Total_Restaurants += total"
   ]
  },
  {
   "cell_type": "code",
   "execution_count": 426,
   "id": "befd84e7-5f99-4532-b0f2-92552c15097a",
   "metadata": {},
   "outputs": [
    {
     "name": "stdout",
     "output_type": "stream",
     "text": [
      "Total number of Restaurants Checks-out as 0\n"
     ]
    }
   ],
   "source": [
    "print('Total number of Restaurants Checks-out as ' + str(Overall_Total_Records))\n",
    "#print(city_restaurant_no)\n"
   ]
  },
  {
   "cell_type": "markdown",
   "id": "2d528b9c-4e83-4581-81a3-53f99ce1fc6c",
   "metadata": {},
   "source": [
    "#### Finding Minimum and Maximum number of Restaurants in a City"
   ]
  },
  {
   "cell_type": "code",
   "execution_count": 625,
   "id": "24c0e1cc-978f-4f3b-9d6a-632c93060f30",
   "metadata": {},
   "outputs": [
    {
     "name": "stdout",
     "output_type": "stream",
     "text": [
      "City with fewest Resaurants is Bandung with 1 restaurant.\n",
      "City with the Most Resaurants is New Delhi with 5473 restaurants.\n"
     ]
    }
   ],
   "source": [
    "# Minimum\n",
    "print('One of the Cities with fewest Resaurants is '+str(cities[restaurant_freq.index(min(restaurant_freq))]) + ' with ' + str(min(restaurant_freq))+' restaurant.')\n",
    "\n",
    "# Maximum \n",
    "print('City with the Most Resaurants is '+str(cities[restaurant_freq.index(max(restaurant_freq))])+ ' with ' + str(max(restaurant_freq))+' restaurants.')\n"
   ]
  },
  {
   "cell_type": "markdown",
   "id": "2f5eb03a-b638-4305-8d4a-80058bb9230a",
   "metadata": {},
   "source": [
    "### Plotting Frequency of Restaurants Vs. City\n",
    "#### - Brute Fource Method -"
   ]
  },
  {
   "cell_type": "code",
   "execution_count": 626,
   "id": "d1188d13-32a0-447e-b06c-93d5000a359a",
   "metadata": {},
   "outputs": [
    {
     "data": {
      "image/png": "[encoded data removed]",
      "text/plain": [
       "<Figure size 432x288 with 1 Axes>"
      ]
     },
     "metadata": {
      "needs_background": "light"
     },
     "output_type": "display_data"
    }
   ],
   "source": [
    "x = cities\n",
    "y = restaurant_freq\n",
    "\n",
    "#plt.bar(range(len(x)), y, width=0.8, bottom=None)  # Here each X-axis number index represents one of the 141 Cities in the 'cities' list\n",
    "plt.barh(range(len(x)), y)\n",
    "plt.show()"
   ]
  },
  {
   "cell_type": "markdown",
   "id": "a1a5fa89-7709-4680-a719-868733151f6c",
   "metadata": {},
   "source": [
    "### Plotting Count of Restaurants by Country\n",
    "#### - Efficient DataFrame Method -"
   ]
  },
  {
   "cell_type": "code",
   "execution_count": 770,
   "id": "b28993a8-01c7-434d-b0fd-8e0e0333434b",
   "metadata": {},
   "outputs": [
    {
     "data": {
      "text/plain": [
       "<AxesSubplot:ylabel='Country Code,Country'>"
      ]
     },
     "execution_count": 770,
     "metadata": {},
     "output_type": "execute_result"
    },
    {
     "data": {
      "image/png": "[encoded data removed]",
      "text/plain": [
       "<Figure size 432x288 with 1 Axes>"
      ]
     },
     "metadata": {
      "needs_background": "light"
     },
     "output_type": "display_data"
    }
   ],
   "source": [
    "cc = pd.read_excel('C:/Users/ImmanuelAdewumi/OneDrive - JCW Resourcing/Xander Talent/CapStone Project/1582800386_project1datadictionary/Country-Code.xlsx')\n",
    "data = df.copy(deep=True)\n",
    "df = pd.merge(data,cc,on='Country Code',how='left')\n",
    "country_dist = df.groupby(['Country Code','Country']).agg(Count = ('Restaurant ID','count'))\n",
    "country_dist.sort_values(by='Count',ascending=False)\n",
    "country_dist.plot(kind='barh', )"
   ]
  },
  {
   "cell_type": "markdown",
   "id": "83aa2746-303e-45af-b476-fccad50eb0a1",
   "metadata": {},
   "source": [
    "## Counting Numbers of Franchises"
   ]
  },
  {
   "cell_type": "markdown",
   "id": "84db88a2-4d95-42d3-8442-a28336bd1cfa",
   "metadata": {},
   "source": [
    "#### - Just Below is The Brute Force Method\n",
    "       - This Method takes a Few Minutes to Run and Show Results\n",
    "       - It was not very efficient, but was an Interesting Approach to Solving the Problem"
   ]
  },
  {
   "cell_type": "code",
   "execution_count": 429,
   "id": "a091ccc7-cdc0-4a7f-b38f-48f8d2b7b4b8",
   "metadata": {},
   "outputs": [
    {
     "name": "stdout",
     "output_type": "stream",
     "text": [
      "Number of Franchises are 7446\n"
     ]
    }
   ],
   "source": [
    "#Counting the Number of Franchises\n",
    "\n",
    "\n",
    "franchises = []\n",
    "for x in df['Restaurant Name']:\n",
    "    if x not in franchises:\n",
    "        franchises.append(x)\n",
    "        \n",
    "print('Number of Franchises are ' +str(len(franchises)))\n",
    "#print('List of Franchises are '+str(franchises))"
   ]
  },
  {
   "cell_type": "code",
   "execution_count": 440,
   "id": "8aeed9d4-de09-42b9-a2b2-56f92da62d9d",
   "metadata": {},
   "outputs": [
    {
     "name": "stdout",
     "output_type": "stream",
     "text": [
      "83\n",
      "Most Popular franchise in India is Cafe Coffee Day with 83 franchise(s).\n",
      "1\n",
      "Most Popular franchise in Australia is Pier 70 with 1 franchise(s).\n",
      "2\n",
      "Most Popular franchise in Brazil is Coco Bambu with 2 franchise(s).\n",
      "1\n",
      "Most Popular franchise in Canada is Lake House Restaurant with 1 franchise(s).\n",
      "3\n",
      "Most Popular franchise in Indonesia is Talaga Sampireun with 3 franchise(s).\n",
      "1\n",
      "Most Popular franchise in New Zealand is Hippopotamus - Museum Hotel with 1 franchise(s).\n",
      "2\n",
      "Most Popular franchise in Phillipines is Silantro Fil-Mex with 2 franchise(s).\n",
      "1\n",
      "Most Popular franchise in Qatar is Punjab Restaurant with 1 franchise(s).\n",
      "1\n",
      "Most Popular franchise in Singapore is Restaurant Andre with 1 franchise(s).\n",
      "1\n",
      "Most Popular franchise in South Africa is Restaurant Mosaic @ The Orient with 1 franchise(s).\n",
      "1\n",
      "Most Popular franchise in Sri-Lanka is The Manhattan Fish Market with 1 franchise(s).\n",
      "2\n",
      "Most Popular franchise in Turkey is Timboo Cafe with 2 franchise(s).\n",
      "3\n",
      "Most Popular franchise in UAE is Applebee's with 3 franchise(s).\n",
      "3\n",
      "Most Popular franchise in United States is Jamie's Italian with 3 franchise(s).\n",
      "4\n",
      "Most Popular franchise in United Kingdom is Texas Roadhouse with 4 franchise(s).\n"
     ]
    }
   ],
   "source": [
    "countrycodes = [1, 14, 30, 37, 94, 148, 162, 166, 184, 189, 191, 208, 214, 215, 216]   # a.k.a - cc\n",
    "country_and_franchise_dict = {1:[], 14:[], 30:[], 37:[], 94:[], 148:[], 162:[], 166:[], 184:[], 189:[], 191:[], 208:[], 214:[], 215:[], 216:[]}\n",
    "countries = {1:'India', 14:'Australia', 30:'Brazil', 37:'Canada', 94:'Indonesia', 148:'New Zealand', 162:'Phillipines', 166:'Qatar', 184:'Singapore', 189:'South Africa', 191:'Sri-Lanka', 208:'Turkey', 214:'UAE', 215:'United States', 216:'United Kingdom'}\n",
    "\n",
    "#print(franchises)   \n",
    "\n",
    "#x = franchises[1]\n",
    "\n",
    "for x in franchises:\n",
    "    for cc in countrycodes:\n",
    "        # fcc represent franchise count in country\n",
    "        fcc = df.loc[np.where((df['Restaurant Name']==x) & (df['Country Code'] == float(cc)))].shape[0]\n",
    "        #print(df.loc[np.where((df['Restaurant Name']==x) & (df['Country Code'] == float(cc)))])\n",
    "        country_and_franchise_dict[cc].append([x,fcc])\n",
    "        if fcc > 0:\n",
    "            #print('Number of '+ x + ' restaurants in ' + str(countries[cc]) + ' is '+str(fcc))\n",
    "            q = country_and_franchise_dict[cc].index([x,fcc])\n",
    "            #print([cc,country_and_franchise_dict[cc][q]])\n",
    "   \n",
    "\n",
    "countries_franchise_freq = {1:[[]], 14:[[]], 30:[[]], 37:[[]], 94:[[]], 148:[[]], 162:[[]], 166:[[]], 184:[[]], 189:[[]], 191:[[]], 208:[[]], 214:[[]], 215:[[]], 216:[[]]}\n",
    "\n",
    "most_popularfranchise_in_country = {1:[[]], 14:[[]], 30:[[]], 37:[[]], 94:[[]], 148:[[]], 162:[[]], 166:[[]], 184:[[]], 189:[[]], 191:[[]], 208:[[]], 214:[[]], 215:[[]], 216:[[]]}\n",
    "\n",
    "\n",
    "for cc in countrycodes:  \n",
    "    countries_franchise_freq[cc][0] = [x[0] for x in country_and_franchise_dict[cc]]\n",
    "    countries_franchise_freq[cc].append([x[1] for x in country_and_franchise_dict[cc]])\n",
    "    Max = max(countries_franchise_freq[cc][1])\n",
    "    print(Max)\n",
    "    MaxFranchiseIndx = countries_franchise_freq[cc][1].index(max(countries_franchise_freq[cc][1]))\n",
    "    most_popularfranchise_in_country[cc][0] = countries_franchise_freq[cc][0][MaxFranchiseIndx]\n",
    "    most_popularfranchise_in_country[cc].append(Max)\n",
    "    print('Most Popular franchise in ' + countries[cc] + ' is ' + countries_franchise_freq[cc][0][MaxFranchiseIndx] + ' with ' + str(Max) + ' franchise(s).')\n",
    "    \n",
    "#print(most_popularfranchise_in_country)\n",
    "\n"
   ]
  },
  {
   "cell_type": "code",
   "execution_count": 441,
   "id": "619e2e7b-5108-40a5-a1b6-f3bac6f613dc",
   "metadata": {},
   "outputs": [
    {
     "name": "stdout",
     "output_type": "stream",
     "text": [
      "[['Cafe Coffee Day', 83], ['Pier 70', 1], ['Coco Bambu', 2], ['Lake House Restaurant', 1], ['Talaga Sampireun', 3], ['Hippopotamus - Museum Hotel', 1], ['Silantro Fil-Mex', 2], ['Punjab Restaurant', 1], ['Restaurant Andre', 1], ['Restaurant Mosaic @ The Orient', 1], ['The Manhattan Fish Market', 1], ['Timboo Cafe', 2], [\"Applebee's\", 3], [\"Jamie's Italian\", 3], ['Texas Roadhouse', 4]]\n",
      "[83, 1, 2, 1, 3, 1, 2, 1, 1, 1, 1, 2, 3, 3, 4]\n",
      "['Cafe Coffee Day', 'Pier 70', 'Coco Bambu', 'Lake House Restaurant', 'Talaga Sampireun', 'Hippopotamus - Museum Hotel', 'Silantro Fil-Mex', 'Punjab Restaurant', 'Restaurant Andre', 'Restaurant Mosaic @ The Orient', 'The Manhattan Fish Market', 'Timboo Cafe', \"Applebee's\", \"Jamie's Italian\", 'Texas Roadhouse']\n",
      "0\n",
      "Franchise with Greatest National Presence is Cafe Coffee Day with 83 franchise(s) in India.\n",
      "End\n"
     ]
    }
   ],
   "source": [
    "\n",
    "list1 = [x for x in [most_popularfranchise_in_country[cc] for cc in countrycodes]]\n",
    "freqlist = ([x[1] for x in [most_popularfranchise_in_country[cc] for cc in countrycodes]])\n",
    "franchlist = ([x[0] for x in [most_popularfranchise_in_country[cc] for cc in countrycodes]])\n",
    "print(list1)\n",
    "print(freqlist)\n",
    "print(franchlist)\n",
    "Greatest_freq = max(freqlist)\n",
    "Franchise_greatest_freq = [x[0] for x in [most_popularfranchise_in_country[cc] for cc in countrycodes]][[x[1] for x in [most_popularfranchise_in_country[cc] for cc in countrycodes]].index(max([x[1] for x in [most_popularfranchise_in_country[cc] for cc in countrycodes]]))]\n",
    "print(list1.index([Franchise_greatest_freq, Greatest_freq]))\n",
    "Nation = list(countries.items())[list1.index([Franchise_greatest_freq, Greatest_freq])][1]\n",
    "\n",
    "print('Franchise with Greatest National Presence is ' + str(Franchise_greatest_freq) + ' with ' + str(Greatest_freq) + ' franchise(s) in '+ Nation + '.')\n",
    "    \n",
    "print('End')  "
   ]
  },
  {
   "cell_type": "markdown",
   "id": "59bbeabe-b61f-4c43-ab3c-db907d9be1f2",
   "metadata": {},
   "source": [
    "#### Efficient Method for Counting Franchises"
   ]
  },
  {
   "cell_type": "code",
   "execution_count": 747,
   "id": "24f2d3a4-8d84-4a5f-bee1-f9a7b05d5436",
   "metadata": {},
   "outputs": [
    {
     "data": {
      "text/html": [
       "<div>\n",
       "<style scoped>\n",
       "    .dataframe tbody tr th:only-of-type {\n",
       "        vertical-align: middle;\n",
       "    }\n",
       "\n",
       "    .dataframe tbody tr th {\n",
       "        vertical-align: top;\n",
       "    }\n",
       "\n",
       "    .dataframe thead th {\n",
       "        text-align: right;\n",
       "    }\n",
       "</style>\n",
       "<table border=\"1\" class=\"dataframe\">\n",
       "  <thead>\n",
       "    <tr style=\"text-align: right;\">\n",
       "      <th></th>\n",
       "      <th>Restaurant Name</th>\n",
       "      <th>Country Code</th>\n",
       "      <th>Count</th>\n",
       "    </tr>\n",
       "  </thead>\n",
       "  <tbody>\n",
       "    <tr>\n",
       "      <th>0</th>\n",
       "      <td>Cafe Coffee Day</td>\n",
       "      <td>1.0</td>\n",
       "      <td>83</td>\n",
       "    </tr>\n",
       "    <tr>\n",
       "      <th>1</th>\n",
       "      <td>Domino's Pizza</td>\n",
       "      <td>1.0</td>\n",
       "      <td>79</td>\n",
       "    </tr>\n",
       "    <tr>\n",
       "      <th>2</th>\n",
       "      <td>Subway</td>\n",
       "      <td>1.0</td>\n",
       "      <td>63</td>\n",
       "    </tr>\n",
       "    <tr>\n",
       "      <th>3</th>\n",
       "      <td>Green Chick Chop</td>\n",
       "      <td>1.0</td>\n",
       "      <td>51</td>\n",
       "    </tr>\n",
       "    <tr>\n",
       "      <th>4</th>\n",
       "      <td>McDonald's</td>\n",
       "      <td>1.0</td>\n",
       "      <td>48</td>\n",
       "    </tr>\n",
       "    <tr>\n",
       "      <th>...</th>\n",
       "      <td>...</td>\n",
       "      <td>...</td>\n",
       "      <td>...</td>\n",
       "    </tr>\n",
       "    <tr>\n",
       "      <th>7468</th>\n",
       "      <td>Giapo</td>\n",
       "      <td>148.0</td>\n",
       "      <td>1</td>\n",
       "    </tr>\n",
       "    <tr>\n",
       "      <th>7469</th>\n",
       "      <td>Giani's di Hatti</td>\n",
       "      <td>1.0</td>\n",
       "      <td>1</td>\n",
       "    </tr>\n",
       "    <tr>\n",
       "      <th>7470</th>\n",
       "      <td>Gian Ji Punjabi Dhaba</td>\n",
       "      <td>1.0</td>\n",
       "      <td>1</td>\n",
       "    </tr>\n",
       "    <tr>\n",
       "      <th>7471</th>\n",
       "      <td>Ghungroo Club &amp; Bar - By Gautam Gambhir</td>\n",
       "      <td>1.0</td>\n",
       "      <td>1</td>\n",
       "    </tr>\n",
       "    <tr>\n",
       "      <th>7472</th>\n",
       "      <td>Ìàukura€Ùa Sofras€±</td>\n",
       "      <td>208.0</td>\n",
       "      <td>1</td>\n",
       "    </tr>\n",
       "  </tbody>\n",
       "</table>\n",
       "<p>7473 rows × 3 columns</p>\n",
       "</div>"
      ],
      "text/plain": [
       "                              Restaurant Name  Country Code  Count\n",
       "0                             Cafe Coffee Day           1.0     83\n",
       "1                              Domino's Pizza           1.0     79\n",
       "2                                      Subway           1.0     63\n",
       "3                            Green Chick Chop           1.0     51\n",
       "4                                  McDonald's           1.0     48\n",
       "...                                       ...           ...    ...\n",
       "7468                                    Giapo         148.0      1\n",
       "7469                         Giani's di Hatti           1.0      1\n",
       "7470                    Gian Ji Punjabi Dhaba           1.0      1\n",
       "7471  Ghungroo Club & Bar - By Gautam Gambhir           1.0      1\n",
       "7472                      Ìàukura€Ùa Sofras€±         208.0      1\n",
       "\n",
       "[7473 rows x 3 columns]"
      ]
     },
     "execution_count": 747,
     "metadata": {},
     "output_type": "execute_result"
    }
   ],
   "source": [
    "max_rate = pd.DataFrame(rating_df.groupby(by=['Restaurant Name','Country Code']).size().sort_values(ascending=False).reset_index(name='Count'))\n",
    "#find the highest restuarant in the city\n",
    "#max_rate\n",
    "#del max_rate['variable']\n",
    "max_rate.columns=['Restaurant Name','Country Code','Count']\n",
    "max_rate.head(10000)"
   ]
  },
  {
   "cell_type": "markdown",
   "id": "68c972bb-af34-44f5-9afc-342aede4fabe",
   "metadata": {},
   "source": [
    "Cafe Coffee Day has the Most franchises with a Count of 83 \n",
    "  - This is the Same value as with the previous Brute-force Method. So the method worked."
   ]
  },
  {
   "cell_type": "markdown",
   "id": "f0828f80-3b5f-43dc-bac7-729fc40ab573",
   "metadata": {},
   "source": [
    "#### Ratio of Restaurants with Table Booking"
   ]
  },
  {
   "cell_type": "code",
   "execution_count": 442,
   "id": "cdce09c0-b0a2-4634-b84e-6df06c5b7a80",
   "metadata": {},
   "outputs": [
    {
     "name": "stdout",
     "output_type": "stream",
     "text": [
      "Number with Table booking = 1158\n",
      "Number without Table booking = 8393\n",
      "Ratio of number of Restaurants with Table booking to number without = 0.13797211962349576\n"
     ]
    }
   ],
   "source": [
    "w_table_booking = df.loc[np.where(df['Has Table booking'] == 'Yes')].shape[0]\n",
    "print('Number with Table booking = ' + str(w_table_booking))\n",
    "wvout_table_booking = df.loc[np.where(df['Has Table booking'] == 'No')].shape[0]\n",
    "print('Number without Table booking = ' + str(wvout_table_booking))\n",
    "Ratio = w_table_booking/wvout_table_booking\n",
    "print('Ratio of number of Restaurants with Table booking to number without = ' + str(Ratio))"
   ]
  },
  {
   "cell_type": "markdown",
   "id": "16cbb463-b6ea-414f-920f-e9ba0ff8a0fe",
   "metadata": {},
   "source": [
    "Sanity Check \n",
    "- Test that the Sum of with and without Table Booking Equals the Previous Recorded value of Total Restaurants 9511"
   ]
  },
  {
   "cell_type": "code",
   "execution_count": 443,
   "id": "a3e6cccc-bed0-4762-855c-259d14c54daa",
   "metadata": {},
   "outputs": [
    {
     "name": "stdout",
     "output_type": "stream",
     "text": [
      "Sum of with and without equals 9551\n",
      "Previous Total was 9551\n",
      "Sanity Check Passed - both numbers the same.\n"
     ]
    }
   ],
   "source": [
    "print('Sum of with and without equals '+ str(w_table_booking + wvout_table_booking))\n",
    "print('Previous Total was ' + str(Overall_Total_Restaurants))\n",
    "print('Sanity Check Passed - both numbers the same.')"
   ]
  },
  {
   "cell_type": "code",
   "execution_count": 749,
   "id": "1f26683a-1bdf-45c1-995d-181afae3e20c",
   "metadata": {},
   "outputs": [
    {
     "data": {
      "image/png": "[encoded data removed]",
      "text/plain": [
       "<Figure size 648x648 with 1 Axes>"
      ]
     },
     "metadata": {},
     "output_type": "display_data"
    }
   ],
   "source": [
    "#Pie chart to show percentage of restaurants which allow table booking and those which do not\n",
    "labels = 'Table Booking', 'No Table Booking'\n",
    "sizes = [w_table_booking,wvout_table_booking]\n",
    "explode = (0.1, 0)  # only \"explode\" the 2nd slice (i.e. 'Hogs')\n",
    "\n",
    "fig1, ax1 = plt.subplots(figsize=(9,9))\n",
    "ax1.pie(sizes, explode=explode, labels=labels, autopct='%1.1f%%',shadow=True, startangle=90)\n",
    "ax1.set_title(\"Table Booking vs No Table Booking\")\n",
    "ax1.axis('equal')  # Equal aspect ratio ensures that pie is drawn as a circle.\n",
    "\n",
    "plt.show()"
   ]
  },
  {
   "cell_type": "markdown",
   "id": "7a9db8b2-9ba5-4d58-a6dc-81781d940927",
   "metadata": {},
   "source": [
    "#### Percentage with Online Delivery"
   ]
  },
  {
   "cell_type": "code",
   "execution_count": 757,
   "id": "1dc1a640-55f8-4946-bbd1-ce3036fa1602",
   "metadata": {},
   "outputs": [
    {
     "name": "stdout",
     "output_type": "stream",
     "text": [
      "Sanity Check Passed:  True\n",
      "Number with Online delivery = 2451\n",
      "Percentage = (100 * Number with Online Delivery/Total No. Restaurants) = 25.66%.\n"
     ]
    }
   ],
   "source": [
    "w_online_delivery = df.loc[np.where(df['Has Online delivery'] == 'Yes')].shape[0]\n",
    "wvout_online_delivery = df.loc[np.where(df['Has Online delivery'] == 'No')].shape[0]\n",
    "print('Sanity Check Passed: ', wvout_online_delivery == Overall_Total_Restaurants - w_online_delivery)           # Sanity Check\n",
    "print('Number with Online delivery = ' + str(w_online_delivery))\n",
    "print('Percentage = (100 * Number with Online Delivery/Total No. Restaurants) = ' + str(round((100 * w_online_delivery/Overall_Total_Restaurants),2)) + '%.')"
   ]
  },
  {
   "cell_type": "code",
   "execution_count": 758,
   "id": "a782de63-c314-4860-af51-d7251e8bb58d",
   "metadata": {},
   "outputs": [
    {
     "data": {
      "image/png": "[encoded data removed]",
      "text/plain": [
       "<Figure size 648x648 with 1 Axes>"
      ]
     },
     "metadata": {},
     "output_type": "display_data"
    }
   ],
   "source": [
    "#pie chart to show percentages of restaurants allowing online delivery vs those which do not have online delivery\n",
    "labels = 'Online Delivery','No Online Delivery'\n",
    "size = [w_online_delivery,wvout_online_delivery]\n",
    "explode = (0.1,0)\n",
    "fig1,ax1 = plt.subplots(figsize=(9,9))\n",
    "ax1.pie(size,explode=explode,labels=labels,autopct='%1.1f%%',shadow=True,startangle=90)\n",
    "ax1.set_title(\"Online Delivery vs No Online Delivery\")\n",
    "ax1.axis('equal')\n",
    "plt.show()"
   ]
  },
  {
   "cell_type": "markdown",
   "id": "aaf90c68-2716-4a91-b76d-a3d49ea40161",
   "metadata": {},
   "source": [
    "#### Difference in Votes for Restaurants that Deliver and Don't"
   ]
  },
  {
   "cell_type": "code",
   "execution_count": 540,
   "id": "e1913110-53c3-44d2-9c1a-c12295489864",
   "metadata": {},
   "outputs": [
    {
     "name": "stdout",
     "output_type": "stream",
     "text": [
      "Votes for Restaurants that Deliver: 517914.0\n",
      "Votes for Restaurants that Do Not Deliver: 980731.0\n",
      "Sanity Check - SumTotal Overall Number of Votes from the table Should Equal the Sum of Both Previous Components\n",
      "SumTotal = 1498645.0\n",
      "Summation of Previous 2 components Votes for Restaurants that Deliver:517914.0 + Votes for Restaurants that Do Not Deliver:980731.0 = 1498645.0\n",
      "Numbers are the Same - Sanity Check Passed\n"
     ]
    }
   ],
   "source": [
    "votes_for_delivering = sum(df.loc[np.where(df['Has Online delivery'] == 'Yes')]['Votes'])\n",
    "print('Votes for Restaurants that Deliver: '+ str(votes_for_delivering))\n",
    "votes_for_non_delivering = sum(df.loc[np.where(df['Has Online delivery'] == 'No')]['Votes'])\n",
    "print('Votes for Restaurants that Do Not Deliver: '+ str(votes_for_non_delivering))\n",
    "sumtotal_votes = sum(df['Votes'])\n",
    "print('Sanity Check - SumTotal Overall Number of Votes from the table Should Equal the Sum of Both Previous Components')\n",
    "print('SumTotal = ' + str(sumtotal_votes))\n",
    "print('Summation of Previous 2 components ' + 'Votes for Restaurants that Deliver:'+str(votes_for_delivering) +' + Votes for Restaurants that Do Not Deliver:'+str(votes_for_non_delivering)+' = '+str(votes_for_delivering+votes_for_non_delivering))\n",
    "print('Numbers are the Same - Sanity Check Passed')"
   ]
  },
  {
   "cell_type": "markdown",
   "id": "c98d4c00-c7bd-4724-8a32-873485be9245",
   "metadata": {},
   "source": [
    "Calculaing the Difference :"
   ]
  },
  {
   "cell_type": "code",
   "execution_count": 541,
   "id": "c999b972-819a-45c0-a57d-816a596610fc",
   "metadata": {},
   "outputs": [
    {
     "name": "stdout",
     "output_type": "stream",
     "text": [
      "Difference = Votes for Restaurants that Deliver:517914.0 - Votes for Restaurants that Do Not Deliver:980731.0 = -462817.0\n",
      "Difference is -462817.0\n",
      "A Negative Difference indicates that Non-delivering Restaurants are Preferred.\n"
     ]
    }
   ],
   "source": [
    "print('Difference = ' + 'Votes for Restaurants that Deliver:'+str(votes_for_delivering) +' - Votes for Restaurants that Do Not Deliver:'+str(votes_for_non_delivering)+' = '+str(votes_for_delivering-votes_for_non_delivering))\n",
    "print('Difference is '+ str(votes_for_delivering-votes_for_non_delivering))\n",
    "print('A Negative Difference indicates that Non-delivering Restaurants are Preferred.')"
   ]
  },
  {
   "cell_type": "markdown",
   "id": "911bc342-437a-4d12-a23f-ab58bc6ab90c",
   "metadata": {
    "tags": []
   },
   "source": [
    "# Performing EDA - Part 2"
   ]
  },
  {
   "cell_type": "markdown",
   "id": "43b83cb6-f638-422a-9b68-efb2ccc49568",
   "metadata": {},
   "source": [
    "### Ranking Cuisines "
   ]
  },
  {
   "cell_type": "markdown",
   "id": "62aeaf2b-8f6f-4db0-a4f0-a2fa8c9c8584",
   "metadata": {},
   "source": [
    "Below Is the List of the 10 Most Popular Cuisines Across Cities "
   ]
  },
  {
   "cell_type": "code",
   "execution_count": 695,
   "id": "70058e86-ddd8-4cd8-9ea8-44d6e41c52a1",
   "metadata": {},
   "outputs": [
    {
     "data": {
      "text/plain": [
       "North Indian    3960\n",
       "Chinese         2735\n",
       "Fast Food       1986\n",
       "Mughlai          995\n",
       "Italian          764\n",
       "Bakery           745\n",
       "Continental      736\n",
       "Cafe             703\n",
       "Desserts         653\n",
       "South Indian     636\n",
       "dtype: int64"
      ]
     },
     "execution_count": 695,
     "metadata": {},
     "output_type": "execute_result"
    }
   ],
   "source": [
    "\n",
    "df.Cuisines.str.split(', ', expand=True).stack().value_counts().head(10)\n"
   ]
  },
  {
   "cell_type": "markdown",
   "id": "85b271f6-c49b-4c28-af50-c84d4123e851",
   "metadata": {},
   "source": []
  },
  {
   "cell_type": "code",
   "execution_count": 583,
   "id": "7005027a-dede-41dc-8f7d-d416d1b29808",
   "metadata": {},
   "outputs": [
    {
     "name": "stdout",
     "output_type": "stream",
     "text": [
      "Maximum Number of Cuisines Served by a Restaurant is 8 served by R' ADDA\n",
      "Minimum Number of Cuisines Served by a Restaurant is 1 served by 3 Wise Monkeys and many other restaurants.\n"
     ]
    }
   ],
   "source": [
    "Cuisine_list = df['Cuisines'].values.tolist()\n",
    "Total_Cuisines_List = []\n",
    "\n",
    "for x in Cuisine_list:\n",
    "    x = [str(x).split(',')]\n",
    "    Total_Cuisines_List = Total_Cuisines_List + x\n",
    "\n",
    "food_list = Total_Cuisines_List  \n",
    "#print(Total_Cuisines_List)\n",
    "\n",
    "cuisine_freq = [len(x) for x in Total_Cuisines_List ]\n",
    "#print(cuisine_freq)\n",
    "\n",
    "MaxC = max(cuisine_freq)\n",
    "MinC = min(cuisine_freq)\n",
    "maxindx = cuisine_freq.index(MaxC)\n",
    "minindx = cuisine_freq.index(MinC)\n",
    "\n",
    "print('Maximum Number of Cuisines Served by a Restaurant is '+str(MaxC)+ ' served by '+ str(df['Restaurant Name'][maxindx]))\n",
    "print('Minimum Number of Cuisines Served by a Restaurant is '+str(MinC)+ ' served by '+ str(df['Restaurant Name'][minindx])+' and many other restaurants.')"
   ]
  },
  {
   "cell_type": "markdown",
   "id": "12a117d8-9f8f-4c0f-9f78-a596578ae667",
   "metadata": {},
   "source": [
    "#### Most Served Cuisine Across Restaurants of Each City"
   ]
  },
  {
   "cell_type": "code",
   "execution_count": 687,
   "id": "5baf562f-b3ff-4129-8c4a-bacc01371c6b",
   "metadata": {},
   "outputs": [],
   "source": [
    "most_pop_cuisine_list = []\n",
    "\n",
    "for cc in cities:\n",
    "        # fcc represent franchise count in country\n",
    "        fcc = df.loc[np.where((df['City']==cc))]\n",
    "        most_freq = fcc.Cuisines.str.split(', ', expand=True).stack().value_counts()[:1]\n",
    "        #most_freq = pd.Series(np.concatenate([x.split(',') for x in fcc.Cuisines])).value_counts()[:1]\n",
    "        #most_freq = pd.Series(' '.join(fcc.Cuisines).split()).value_counts()[:1]\n",
    "        #most_freq = [most_freq]\n",
    "        most_freq = str(most_freq).split(' ')[0]\n",
    "        most_pop_cuisine_list = most_pop_cuisine_list + [str(most_freq)]\n",
    "        \n",
    "#print(most_pop_cuisine_list)\n",
    "#print('len list '+str(len(most_pop_cuisine_list)))"
   ]
  },
  {
   "cell_type": "code",
   "execution_count": 699,
   "id": "ec3cb762-549b-4881-bf0e-c214a7173fb6",
   "metadata": {},
   "outputs": [
    {
     "data": {
      "text/html": [
       "<div>\n",
       "<style scoped>\n",
       "    .dataframe tbody tr th:only-of-type {\n",
       "        vertical-align: middle;\n",
       "    }\n",
       "\n",
       "    .dataframe tbody tr th {\n",
       "        vertical-align: top;\n",
       "    }\n",
       "\n",
       "    .dataframe thead th {\n",
       "        text-align: right;\n",
       "    }\n",
       "</style>\n",
       "<table border=\"1\" class=\"dataframe\">\n",
       "  <thead>\n",
       "    <tr style=\"text-align: right;\">\n",
       "      <th></th>\n",
       "      <th>City</th>\n",
       "      <th>Most Popular Cuisine</th>\n",
       "    </tr>\n",
       "  </thead>\n",
       "  <tbody>\n",
       "    <tr>\n",
       "      <th>0</th>\n",
       "      <td>Jakarta</td>\n",
       "      <td>Western</td>\n",
       "    </tr>\n",
       "    <tr>\n",
       "      <th>1</th>\n",
       "      <td>Tangerang</td>\n",
       "      <td>Indonesian</td>\n",
       "    </tr>\n",
       "    <tr>\n",
       "      <th>2</th>\n",
       "      <td>Bogor</td>\n",
       "      <td>Peranakan</td>\n",
       "    </tr>\n",
       "    <tr>\n",
       "      <th>3</th>\n",
       "      <td>Bandung</td>\n",
       "      <td>Cafe</td>\n",
       "    </tr>\n",
       "    <tr>\n",
       "      <th>4</th>\n",
       "      <td>New Delhi</td>\n",
       "      <td>North</td>\n",
       "    </tr>\n",
       "    <tr>\n",
       "      <th>5</th>\n",
       "      <td>Pasay City</td>\n",
       "      <td>European</td>\n",
       "    </tr>\n",
       "    <tr>\n",
       "      <th>6</th>\n",
       "      <td>Gurgaon</td>\n",
       "      <td>North</td>\n",
       "    </tr>\n",
       "    <tr>\n",
       "      <th>7</th>\n",
       "      <td>Colombo</td>\n",
       "      <td>American</td>\n",
       "    </tr>\n",
       "    <tr>\n",
       "      <th>8</th>\n",
       "      <td>Mandaluyong City</td>\n",
       "      <td>Japanese</td>\n",
       "    </tr>\n",
       "    <tr>\n",
       "      <th>9</th>\n",
       "      <td>Agra</td>\n",
       "      <td>North</td>\n",
       "    </tr>\n",
       "  </tbody>\n",
       "</table>\n",
       "</div>"
      ],
      "text/plain": [
       "               City Most Popular Cuisine\n",
       "0           Jakarta              Western\n",
       "1         Tangerang           Indonesian\n",
       "2             Bogor            Peranakan\n",
       "3           Bandung                 Cafe\n",
       "4         New Delhi                North\n",
       "5        Pasay City             European\n",
       "6           Gurgaon                North\n",
       "7           Colombo             American\n",
       "8  Mandaluyong City             Japanese\n",
       "9              Agra                North"
      ]
     },
     "execution_count": 699,
     "metadata": {},
     "output_type": "execute_result"
    }
   ],
   "source": [
    "cuisine_df = pd.DataFrame(list(zip(cities, most_pop_cuisine_list)),\n",
    "               columns =['City', 'Most Popular Cuisine'])\n",
    "\n",
    "cuisine_df.head(10)"
   ]
  },
  {
   "cell_type": "markdown",
   "id": "34017d99-ff97-4517-bec8-1c5c3ecdd1d5",
   "metadata": {},
   "source": [
    "Above is a DataFrame which Details the Most Served Cuisine Across all Restaurants for Each City"
   ]
  },
  {
   "cell_type": "code",
   "execution_count": 684,
   "id": "227f6c52-daa5-46a0-9ab7-774697f253dc",
   "metadata": {},
   "outputs": [
    {
     "data": {
      "text/html": [
       "<div>\n",
       "<style scoped>\n",
       "    .dataframe tbody tr th:only-of-type {\n",
       "        vertical-align: middle;\n",
       "    }\n",
       "\n",
       "    .dataframe tbody tr th {\n",
       "        vertical-align: top;\n",
       "    }\n",
       "\n",
       "    .dataframe thead th {\n",
       "        text-align: right;\n",
       "    }\n",
       "</style>\n",
       "<table border=\"1\" class=\"dataframe\">\n",
       "  <thead>\n",
       "    <tr style=\"text-align: right;\">\n",
       "      <th></th>\n",
       "      <th>City</th>\n",
       "      <th>Distribution Cost Across City</th>\n",
       "      <th>Currency</th>\n",
       "    </tr>\n",
       "  </thead>\n",
       "  <tbody>\n",
       "    <tr>\n",
       "      <th>0</th>\n",
       "      <td>Jakarta</td>\n",
       "      <td>4935000.0</td>\n",
       "      <td>Indonesian Rupiah(IDR)</td>\n",
       "    </tr>\n",
       "    <tr>\n",
       "      <th>1</th>\n",
       "      <td>Tangerang</td>\n",
       "      <td>500000.0</td>\n",
       "      <td>Indonesian Rupiah(IDR)</td>\n",
       "    </tr>\n",
       "    <tr>\n",
       "      <th>2</th>\n",
       "      <td>Bogor</td>\n",
       "      <td>320000.0</td>\n",
       "      <td>Indonesian Rupiah(IDR)</td>\n",
       "    </tr>\n",
       "    <tr>\n",
       "      <th>3</th>\n",
       "      <td>Bandung</td>\n",
       "      <td>150000.0</td>\n",
       "      <td>Indonesian Rupiah(IDR)</td>\n",
       "    </tr>\n",
       "    <tr>\n",
       "      <th>4</th>\n",
       "      <td>New Delhi</td>\n",
       "      <td>3262390.0</td>\n",
       "      <td>Indian Rupees(Rs.)</td>\n",
       "    </tr>\n",
       "  </tbody>\n",
       "</table>\n",
       "</div>"
      ],
      "text/plain": [
       "        City  Distribution Cost Across City                Currency\n",
       "0    Jakarta                      4935000.0  Indonesian Rupiah(IDR)\n",
       "1  Tangerang                       500000.0  Indonesian Rupiah(IDR)\n",
       "2      Bogor                       320000.0  Indonesian Rupiah(IDR)\n",
       "3    Bandung                       150000.0  Indonesian Rupiah(IDR)\n",
       "4  New Delhi                      3262390.0      Indian Rupees(Rs.)"
      ]
     },
     "execution_count": 684,
     "metadata": {},
     "output_type": "execute_result"
    }
   ],
   "source": [
    "currencies = []\n",
    "distribution_costs = []\n",
    "\n",
    "for cc in cities:\n",
    "        # acc represent average_cost_and_currency\n",
    "        acc = df.loc[np.where((df['City']==cc))]\n",
    "        sum_costs = acc['Average Cost for two'].sum()\n",
    "        currency = acc['Currency'].drop_duplicates()\n",
    "        #print(currency)\n",
    "        #print(sum_costs)\n",
    "        currency = str(currency).split('\\n')\n",
    "        #currency = currency[0].replace(' ', '')\n",
    "        currency = currency[0].split('  ')[2]\n",
    "        #print(currency)\n",
    "        currencies = currencies + [currency]\n",
    "        distribution_costs = distribution_costs + [sum_costs]\n",
    "        \n",
    "#print(currencies)\n",
    "#print(distribution_costs)\n",
    "#print('len list currencies '+str(len(currencies)))\n",
    "#print('len list distribution cost '+str(len(distribution_costs)))\n",
    "\n",
    "costpercity_df = pd.DataFrame(list(zip(cities, distribution_costs, currencies)),\n",
    "               columns =['City', 'Distribution Cost Across City', 'Currency'])\n",
    "\n",
    "costpercity_df.head()"
   ]
  },
  {
   "cell_type": "code",
   "execution_count": 698,
   "id": "ad63e577-4f38-4bf0-b06a-53d99fe5e021",
   "metadata": {},
   "outputs": [
    {
     "data": {
      "text/html": [
       "<div>\n",
       "<style scoped>\n",
       "    .dataframe tbody tr th:only-of-type {\n",
       "        vertical-align: middle;\n",
       "    }\n",
       "\n",
       "    .dataframe tbody tr th {\n",
       "        vertical-align: top;\n",
       "    }\n",
       "\n",
       "    .dataframe thead th {\n",
       "        text-align: right;\n",
       "    }\n",
       "</style>\n",
       "<table border=\"1\" class=\"dataframe\">\n",
       "  <thead>\n",
       "    <tr style=\"text-align: right;\">\n",
       "      <th></th>\n",
       "      <th>Distribution Cost Per Shared Currency Region</th>\n",
       "      <th>Currency</th>\n",
       "    </tr>\n",
       "  </thead>\n",
       "  <tbody>\n",
       "    <tr>\n",
       "      <th>0</th>\n",
       "      <td>5905000.0</td>\n",
       "      <td>Indonesian Rupiah(IDR)</td>\n",
       "    </tr>\n",
       "    <tr>\n",
       "      <th>1</th>\n",
       "      <td>5393400.0</td>\n",
       "      <td>Indian Rupees(Rs.)</td>\n",
       "    </tr>\n",
       "    <tr>\n",
       "      <th>2</th>\n",
       "      <td>35350.0</td>\n",
       "      <td>Botswana Pula(P)</td>\n",
       "    </tr>\n",
       "    <tr>\n",
       "      <th>3</th>\n",
       "      <td>47500.0</td>\n",
       "      <td>Sri Lankan Rupee(LKR)</td>\n",
       "    </tr>\n",
       "    <tr>\n",
       "      <th>4</th>\n",
       "      <td>25184.0</td>\n",
       "      <td>Rand(R)</td>\n",
       "    </tr>\n",
       "    <tr>\n",
       "      <th>5</th>\n",
       "      <td>4475.0</td>\n",
       "      <td>Qatari Rial(QR)</td>\n",
       "    </tr>\n",
       "    <tr>\n",
       "      <th>6</th>\n",
       "      <td>15188.0</td>\n",
       "      <td>Dollar($)</td>\n",
       "    </tr>\n",
       "    <tr>\n",
       "      <th>7</th>\n",
       "      <td>9985.0</td>\n",
       "      <td>Emirati Diram(AED)</td>\n",
       "    </tr>\n",
       "    <tr>\n",
       "      <th>8</th>\n",
       "      <td>8080.0</td>\n",
       "      <td>Brazilian Real(R$)</td>\n",
       "    </tr>\n",
       "    <tr>\n",
       "      <th>9</th>\n",
       "      <td>2885.0</td>\n",
       "      <td>Turkish Lira(TL)</td>\n",
       "    </tr>\n",
       "    <tr>\n",
       "      <th>10</th>\n",
       "      <td>3825.0</td>\n",
       "      <td>Pounds(å£)</td>\n",
       "    </tr>\n",
       "    <tr>\n",
       "      <th>11</th>\n",
       "      <td>2790.0</td>\n",
       "      <td>NewZealand($)</td>\n",
       "    </tr>\n",
       "  </tbody>\n",
       "</table>\n",
       "</div>"
      ],
      "text/plain": [
       "    Distribution Cost Per Shared Currency Region                Currency\n",
       "0                                      5905000.0  Indonesian Rupiah(IDR)\n",
       "1                                      5393400.0      Indian Rupees(Rs.)\n",
       "2                                        35350.0        Botswana Pula(P)\n",
       "3                                        47500.0   Sri Lankan Rupee(LKR)\n",
       "4                                        25184.0                 Rand(R)\n",
       "5                                         4475.0         Qatari Rial(QR)\n",
       "6                                        15188.0               Dollar($)\n",
       "7                                         9985.0      Emirati Diram(AED)\n",
       "8                                         8080.0      Brazilian Real(R$)\n",
       "9                                         2885.0        Turkish Lira(TL)\n",
       "10                                        3825.0              Pounds(å£)\n",
       "11                                        2790.0           NewZealand($)"
      ]
     },
     "execution_count": 698,
     "metadata": {},
     "output_type": "execute_result"
    }
   ],
   "source": [
    "dcascr = []   # this represents distribution_costs_across_shared_currency_region\n",
    "distinct_currencies = []\n",
    "\n",
    "for x in currencies:\n",
    "    if x not in distinct_currencies:\n",
    "        distinct_currencies.append(x)\n",
    "\n",
    "for cur in distinct_currencies:\n",
    "        # cc represent currency cummulated\n",
    "        cc = costpercity_df.loc[np.where((costpercity_df['Currency']==cur))]\n",
    "        sum_costs = cc['Distribution Cost Across City'].sum()\n",
    "        currency = cc['Currency'].drop_duplicates()\n",
    "        #print(currency)\n",
    "        dcascr = dcascr + [sum_costs]\n",
    "\n",
    "#print(distinct_currencies)\n",
    "#print(dcascr)\n",
    "#print('len list distinct currencies '+str(len(distinct_currencies)))\n",
    "#print('len list distribution cost across shared currency regions '+str(len(dcascr)))\n",
    "\n",
    "\n",
    "dcascr_df = pd.DataFrame(list(zip(dcascr, distinct_currencies)),\n",
    "               columns =['Distribution Cost Per Shared Currency Region', 'Currency'])\n",
    "\n",
    "dcascr_df.head(12)  # Only Show 12 rows as there are Only 12 Currencies \n",
    "\n"
   ]
  },
  {
   "cell_type": "markdown",
   "id": "61883c6a-a6d3-41b2-87d8-16054a11df31",
   "metadata": {},
   "source": [
    "### How Varios Factors Might Affect Rating?"
   ]
  },
  {
   "cell_type": "code",
   "execution_count": 713,
   "id": "eabc5a54-34f2-4595-80ac-87b2e7bafc14",
   "metadata": {},
   "outputs": [
    {
     "name": "stdout",
     "output_type": "stream",
     "text": [
      "['Has Table booking', 'Has Online delivery']\n"
     ]
    },
    {
     "data": {
      "text/html": [
       "<div>\n",
       "<style scoped>\n",
       "    .dataframe tbody tr th:only-of-type {\n",
       "        vertical-align: middle;\n",
       "    }\n",
       "\n",
       "    .dataframe tbody tr th {\n",
       "        vertical-align: top;\n",
       "    }\n",
       "\n",
       "    .dataframe thead th {\n",
       "        text-align: right;\n",
       "    }\n",
       "</style>\n",
       "<table border=\"1\" class=\"dataframe\">\n",
       "  <thead>\n",
       "    <tr style=\"text-align: right;\">\n",
       "      <th></th>\n",
       "      <th>Has Table booking</th>\n",
       "      <th>Has Online delivery</th>\n",
       "    </tr>\n",
       "  </thead>\n",
       "  <tbody>\n",
       "    <tr>\n",
       "      <th>0</th>\n",
       "      <td>0</td>\n",
       "      <td>0</td>\n",
       "    </tr>\n",
       "    <tr>\n",
       "      <th>1</th>\n",
       "      <td>0</td>\n",
       "      <td>0</td>\n",
       "    </tr>\n",
       "    <tr>\n",
       "      <th>2</th>\n",
       "      <td>0</td>\n",
       "      <td>0</td>\n",
       "    </tr>\n",
       "    <tr>\n",
       "      <th>3</th>\n",
       "      <td>0</td>\n",
       "      <td>0</td>\n",
       "    </tr>\n",
       "    <tr>\n",
       "      <th>4</th>\n",
       "      <td>0</td>\n",
       "      <td>0</td>\n",
       "    </tr>\n",
       "    <tr>\n",
       "      <th>5</th>\n",
       "      <td>0</td>\n",
       "      <td>0</td>\n",
       "    </tr>\n",
       "    <tr>\n",
       "      <th>6</th>\n",
       "      <td>0</td>\n",
       "      <td>0</td>\n",
       "    </tr>\n",
       "    <tr>\n",
       "      <th>7</th>\n",
       "      <td>0</td>\n",
       "      <td>0</td>\n",
       "    </tr>\n",
       "    <tr>\n",
       "      <th>8</th>\n",
       "      <td>0</td>\n",
       "      <td>0</td>\n",
       "    </tr>\n",
       "    <tr>\n",
       "      <th>9</th>\n",
       "      <td>0</td>\n",
       "      <td>0</td>\n",
       "    </tr>\n",
       "  </tbody>\n",
       "</table>\n",
       "</div>"
      ],
      "text/plain": [
       "   Has Table booking  Has Online delivery\n",
       "0                  0                    0\n",
       "1                  0                    0\n",
       "2                  0                    0\n",
       "3                  0                    0\n",
       "4                  0                    0\n",
       "5                  0                    0\n",
       "6                  0                    0\n",
       "7                  0                    0\n",
       "8                  0                    0\n",
       "9                  0                    0"
      ]
     },
     "execution_count": 713,
     "metadata": {},
     "output_type": "execute_result"
    }
   ],
   "source": [
    "rating_df = df[['Restaurant ID','Restaurant Name','Country Code','City','Aggregate rating','Average Cost for two','Votes','Price range','Has Table booking','Has Online delivery','Cuisines']].copy(deep=True)\n",
    "\n",
    "bi_cols = []\n",
    "for col in rating_df.columns:\n",
    "    if rating_df[col].nunique() == 2:\n",
    "        bi_cols.append(col)\n",
    "        \n",
    "print(bi_cols)\n",
    "\n",
    "\"\"\"\n",
    "hex_cols = []\n",
    "for col in rating_df.columns:\n",
    "    if rating_df[col].nunique() == 5:\n",
    "        hex_cols.append(col)\n",
    "\"\"\"\n",
    "\n",
    "for col in bi_cols:\n",
    "    rating_df[col] = rating_df[col].map({'No': 0, 'Yes': 1})\n",
    "\n",
    "rating_df[bi_cols].head(10)"
   ]
  },
  {
   "cell_type": "code",
   "execution_count": 714,
   "id": "44b0944c-386d-459a-baf7-f8845bb70f01",
   "metadata": {},
   "outputs": [
    {
     "data": {
      "text/html": [
       "<div>\n",
       "<style scoped>\n",
       "    .dataframe tbody tr th:only-of-type {\n",
       "        vertical-align: middle;\n",
       "    }\n",
       "\n",
       "    .dataframe tbody tr th {\n",
       "        vertical-align: top;\n",
       "    }\n",
       "\n",
       "    .dataframe thead th {\n",
       "        text-align: right;\n",
       "    }\n",
       "</style>\n",
       "<table border=\"1\" class=\"dataframe\">\n",
       "  <thead>\n",
       "    <tr style=\"text-align: right;\">\n",
       "      <th></th>\n",
       "      <th>Restaurant ID</th>\n",
       "      <th>Restaurant Name</th>\n",
       "      <th>Country Code</th>\n",
       "      <th>City</th>\n",
       "      <th>Aggregate rating</th>\n",
       "      <th>Average Cost for two</th>\n",
       "      <th>Votes</th>\n",
       "      <th>Price range</th>\n",
       "      <th>Has Table booking</th>\n",
       "      <th>Has Online delivery</th>\n",
       "      <th>Cuisines</th>\n",
       "    </tr>\n",
       "  </thead>\n",
       "  <tbody>\n",
       "    <tr>\n",
       "      <th>0</th>\n",
       "      <td>7402935.0</td>\n",
       "      <td>Skye</td>\n",
       "      <td>94.0</td>\n",
       "      <td>Jakarta</td>\n",
       "      <td>4.1</td>\n",
       "      <td>800000.0</td>\n",
       "      <td>1498.0</td>\n",
       "      <td>3.0</td>\n",
       "      <td>0</td>\n",
       "      <td>0</td>\n",
       "      <td>Italian, Continental</td>\n",
       "    </tr>\n",
       "    <tr>\n",
       "      <th>1</th>\n",
       "      <td>7410290.0</td>\n",
       "      <td>Satoo - Hotel Shangri-La</td>\n",
       "      <td>94.0</td>\n",
       "      <td>Jakarta</td>\n",
       "      <td>4.6</td>\n",
       "      <td>800000.0</td>\n",
       "      <td>873.0</td>\n",
       "      <td>3.0</td>\n",
       "      <td>0</td>\n",
       "      <td>0</td>\n",
       "      <td>Asian, Indonesian, Western</td>\n",
       "    </tr>\n",
       "    <tr>\n",
       "      <th>2</th>\n",
       "      <td>7420899.0</td>\n",
       "      <td>Sushi Masa</td>\n",
       "      <td>94.0</td>\n",
       "      <td>Jakarta</td>\n",
       "      <td>4.9</td>\n",
       "      <td>500000.0</td>\n",
       "      <td>605.0</td>\n",
       "      <td>3.0</td>\n",
       "      <td>0</td>\n",
       "      <td>0</td>\n",
       "      <td>Sushi, Japanese</td>\n",
       "    </tr>\n",
       "    <tr>\n",
       "      <th>3</th>\n",
       "      <td>7421967.0</td>\n",
       "      <td>3 Wise Monkeys</td>\n",
       "      <td>94.0</td>\n",
       "      <td>Jakarta</td>\n",
       "      <td>4.2</td>\n",
       "      <td>450000.0</td>\n",
       "      <td>395.0</td>\n",
       "      <td>3.0</td>\n",
       "      <td>0</td>\n",
       "      <td>0</td>\n",
       "      <td>Japanese</td>\n",
       "    </tr>\n",
       "    <tr>\n",
       "      <th>4</th>\n",
       "      <td>7422489.0</td>\n",
       "      <td>Avec Moi Restaurant and Bar</td>\n",
       "      <td>94.0</td>\n",
       "      <td>Jakarta</td>\n",
       "      <td>4.3</td>\n",
       "      <td>350000.0</td>\n",
       "      <td>243.0</td>\n",
       "      <td>3.0</td>\n",
       "      <td>0</td>\n",
       "      <td>0</td>\n",
       "      <td>French, Western</td>\n",
       "    </tr>\n",
       "    <tr>\n",
       "      <th>...</th>\n",
       "      <td>...</td>\n",
       "      <td>...</td>\n",
       "      <td>...</td>\n",
       "      <td>...</td>\n",
       "      <td>...</td>\n",
       "      <td>...</td>\n",
       "      <td>...</td>\n",
       "      <td>...</td>\n",
       "      <td>...</td>\n",
       "      <td>...</td>\n",
       "      <td>...</td>\n",
       "    </tr>\n",
       "    <tr>\n",
       "      <th>9546</th>\n",
       "      <td>18279289.0</td>\n",
       "      <td>BMG - All Day Dining</td>\n",
       "      <td>1.0</td>\n",
       "      <td>Dehradun</td>\n",
       "      <td>4.3</td>\n",
       "      <td>0.0</td>\n",
       "      <td>63.0</td>\n",
       "      <td>1.0</td>\n",
       "      <td>0</td>\n",
       "      <td>0</td>\n",
       "      <td>Chinese, North Indian, Fast Food</td>\n",
       "    </tr>\n",
       "    <tr>\n",
       "      <th>9547</th>\n",
       "      <td>2300497.0</td>\n",
       "      <td>Atmosphere Grill Cafe Sheesha</td>\n",
       "      <td>1.0</td>\n",
       "      <td>Kanpur</td>\n",
       "      <td>3.6</td>\n",
       "      <td>0.0</td>\n",
       "      <td>34.0</td>\n",
       "      <td>1.0</td>\n",
       "      <td>0</td>\n",
       "      <td>0</td>\n",
       "      <td>Indian, Chinese, Continental</td>\n",
       "    </tr>\n",
       "    <tr>\n",
       "      <th>9548</th>\n",
       "      <td>18312106.0</td>\n",
       "      <td>UrbanCrave</td>\n",
       "      <td>1.0</td>\n",
       "      <td>Kanpur</td>\n",
       "      <td>3.9</td>\n",
       "      <td>0.0</td>\n",
       "      <td>127.0</td>\n",
       "      <td>1.0</td>\n",
       "      <td>0</td>\n",
       "      <td>0</td>\n",
       "      <td>Cafe, Continental, Desserts, Ice Cream, Italia...</td>\n",
       "    </tr>\n",
       "    <tr>\n",
       "      <th>9549</th>\n",
       "      <td>3900245.0</td>\n",
       "      <td>Deena Chat Bhandar</td>\n",
       "      <td>1.0</td>\n",
       "      <td>Varanasi</td>\n",
       "      <td>3.8</td>\n",
       "      <td>0.0</td>\n",
       "      <td>78.0</td>\n",
       "      <td>1.0</td>\n",
       "      <td>0</td>\n",
       "      <td>0</td>\n",
       "      <td>Street Food</td>\n",
       "    </tr>\n",
       "    <tr>\n",
       "      <th>9550</th>\n",
       "      <td>18246202.0</td>\n",
       "      <td>VNS Live Studio</td>\n",
       "      <td>1.0</td>\n",
       "      <td>Varanasi</td>\n",
       "      <td>3.5</td>\n",
       "      <td>0.0</td>\n",
       "      <td>109.0</td>\n",
       "      <td>1.0</td>\n",
       "      <td>0</td>\n",
       "      <td>0</td>\n",
       "      <td>Chinese, North Indian</td>\n",
       "    </tr>\n",
       "  </tbody>\n",
       "</table>\n",
       "<p>9551 rows × 11 columns</p>\n",
       "</div>"
      ],
      "text/plain": [
       "      Restaurant ID                Restaurant Name  Country Code      City  \\\n",
       "0         7402935.0                           Skye          94.0   Jakarta   \n",
       "1         7410290.0       Satoo - Hotel Shangri-La          94.0   Jakarta   \n",
       "2         7420899.0                     Sushi Masa          94.0   Jakarta   \n",
       "3         7421967.0                 3 Wise Monkeys          94.0   Jakarta   \n",
       "4         7422489.0    Avec Moi Restaurant and Bar          94.0   Jakarta   \n",
       "...             ...                            ...           ...       ...   \n",
       "9546     18279289.0           BMG - All Day Dining           1.0  Dehradun   \n",
       "9547      2300497.0  Atmosphere Grill Cafe Sheesha           1.0    Kanpur   \n",
       "9548     18312106.0                     UrbanCrave           1.0    Kanpur   \n",
       "9549      3900245.0             Deena Chat Bhandar           1.0  Varanasi   \n",
       "9550     18246202.0                VNS Live Studio           1.0  Varanasi   \n",
       "\n",
       "      Aggregate rating  Average Cost for two   Votes  Price range  \\\n",
       "0                  4.1              800000.0  1498.0          3.0   \n",
       "1                  4.6              800000.0   873.0          3.0   \n",
       "2                  4.9              500000.0   605.0          3.0   \n",
       "3                  4.2              450000.0   395.0          3.0   \n",
       "4                  4.3              350000.0   243.0          3.0   \n",
       "...                ...                   ...     ...          ...   \n",
       "9546               4.3                   0.0    63.0          1.0   \n",
       "9547               3.6                   0.0    34.0          1.0   \n",
       "9548               3.9                   0.0   127.0          1.0   \n",
       "9549               3.8                   0.0    78.0          1.0   \n",
       "9550               3.5                   0.0   109.0          1.0   \n",
       "\n",
       "      Has Table booking  Has Online delivery  \\\n",
       "0                     0                    0   \n",
       "1                     0                    0   \n",
       "2                     0                    0   \n",
       "3                     0                    0   \n",
       "4                     0                    0   \n",
       "...                 ...                  ...   \n",
       "9546                  0                    0   \n",
       "9547                  0                    0   \n",
       "9548                  0                    0   \n",
       "9549                  0                    0   \n",
       "9550                  0                    0   \n",
       "\n",
       "                                               Cuisines  \n",
       "0                                  Italian, Continental  \n",
       "1                            Asian, Indonesian, Western  \n",
       "2                                       Sushi, Japanese  \n",
       "3                                              Japanese  \n",
       "4                                       French, Western  \n",
       "...                                                 ...  \n",
       "9546                   Chinese, North Indian, Fast Food  \n",
       "9547                       Indian, Chinese, Continental  \n",
       "9548  Cafe, Continental, Desserts, Ice Cream, Italia...  \n",
       "9549                                        Street Food  \n",
       "9550                              Chinese, North Indian  \n",
       "\n",
       "[9551 rows x 11 columns]"
      ]
     },
     "execution_count": 714,
     "metadata": {},
     "output_type": "execute_result"
    }
   ],
   "source": [
    "rating_df"
   ]
  },
  {
   "cell_type": "code",
   "execution_count": 733,
   "id": "320bc255-9abb-48e5-bfa9-4e42e687da80",
   "metadata": {},
   "outputs": [
    {
     "data": {
      "text/html": [
       "<div>\n",
       "<style scoped>\n",
       "    .dataframe tbody tr th:only-of-type {\n",
       "        vertical-align: middle;\n",
       "    }\n",
       "\n",
       "    .dataframe tbody tr th {\n",
       "        vertical-align: top;\n",
       "    }\n",
       "\n",
       "    .dataframe thead th {\n",
       "        text-align: right;\n",
       "    }\n",
       "</style>\n",
       "<table border=\"1\" class=\"dataframe\">\n",
       "  <thead>\n",
       "    <tr style=\"text-align: right;\">\n",
       "      <th></th>\n",
       "      <th>Restaurant ID</th>\n",
       "      <th>Restaurant Name</th>\n",
       "      <th>Country Code_x</th>\n",
       "      <th>City</th>\n",
       "      <th>Aggregate rating</th>\n",
       "      <th>Average Cost for two</th>\n",
       "      <th>Votes</th>\n",
       "      <th>Price range</th>\n",
       "      <th>Has Table booking</th>\n",
       "      <th>Has Online delivery</th>\n",
       "      <th>Cuisines</th>\n",
       "      <th>Country Code_y</th>\n",
       "      <th>Count</th>\n",
       "    </tr>\n",
       "  </thead>\n",
       "  <tbody>\n",
       "    <tr>\n",
       "      <th>0</th>\n",
       "      <td>7402935.0</td>\n",
       "      <td>Skye</td>\n",
       "      <td>94.0</td>\n",
       "      <td>Jakarta</td>\n",
       "      <td>4.1</td>\n",
       "      <td>800000.0</td>\n",
       "      <td>1498.0</td>\n",
       "      <td>3.0</td>\n",
       "      <td>0</td>\n",
       "      <td>0</td>\n",
       "      <td>Italian, Continental</td>\n",
       "      <td>94.0</td>\n",
       "      <td>1</td>\n",
       "    </tr>\n",
       "    <tr>\n",
       "      <th>1</th>\n",
       "      <td>7410290.0</td>\n",
       "      <td>Satoo - Hotel Shangri-La</td>\n",
       "      <td>94.0</td>\n",
       "      <td>Jakarta</td>\n",
       "      <td>4.6</td>\n",
       "      <td>800000.0</td>\n",
       "      <td>873.0</td>\n",
       "      <td>3.0</td>\n",
       "      <td>0</td>\n",
       "      <td>0</td>\n",
       "      <td>Asian, Indonesian, Western</td>\n",
       "      <td>94.0</td>\n",
       "      <td>1</td>\n",
       "    </tr>\n",
       "    <tr>\n",
       "      <th>2</th>\n",
       "      <td>7420899.0</td>\n",
       "      <td>Sushi Masa</td>\n",
       "      <td>94.0</td>\n",
       "      <td>Jakarta</td>\n",
       "      <td>4.9</td>\n",
       "      <td>500000.0</td>\n",
       "      <td>605.0</td>\n",
       "      <td>3.0</td>\n",
       "      <td>0</td>\n",
       "      <td>0</td>\n",
       "      <td>Sushi, Japanese</td>\n",
       "      <td>94.0</td>\n",
       "      <td>1</td>\n",
       "    </tr>\n",
       "    <tr>\n",
       "      <th>3</th>\n",
       "      <td>7421967.0</td>\n",
       "      <td>3 Wise Monkeys</td>\n",
       "      <td>94.0</td>\n",
       "      <td>Jakarta</td>\n",
       "      <td>4.2</td>\n",
       "      <td>450000.0</td>\n",
       "      <td>395.0</td>\n",
       "      <td>3.0</td>\n",
       "      <td>0</td>\n",
       "      <td>0</td>\n",
       "      <td>Japanese</td>\n",
       "      <td>94.0</td>\n",
       "      <td>1</td>\n",
       "    </tr>\n",
       "    <tr>\n",
       "      <th>4</th>\n",
       "      <td>7422489.0</td>\n",
       "      <td>Avec Moi Restaurant and Bar</td>\n",
       "      <td>94.0</td>\n",
       "      <td>Jakarta</td>\n",
       "      <td>4.3</td>\n",
       "      <td>350000.0</td>\n",
       "      <td>243.0</td>\n",
       "      <td>3.0</td>\n",
       "      <td>0</td>\n",
       "      <td>0</td>\n",
       "      <td>French, Western</td>\n",
       "      <td>94.0</td>\n",
       "      <td>1</td>\n",
       "    </tr>\n",
       "    <tr>\n",
       "      <th>...</th>\n",
       "      <td>...</td>\n",
       "      <td>...</td>\n",
       "      <td>...</td>\n",
       "      <td>...</td>\n",
       "      <td>...</td>\n",
       "      <td>...</td>\n",
       "      <td>...</td>\n",
       "      <td>...</td>\n",
       "      <td>...</td>\n",
       "      <td>...</td>\n",
       "      <td>...</td>\n",
       "      <td>...</td>\n",
       "      <td>...</td>\n",
       "    </tr>\n",
       "    <tr>\n",
       "      <th>9694</th>\n",
       "      <td>18279289.0</td>\n",
       "      <td>BMG - All Day Dining</td>\n",
       "      <td>1.0</td>\n",
       "      <td>Dehradun</td>\n",
       "      <td>4.3</td>\n",
       "      <td>0.0</td>\n",
       "      <td>63.0</td>\n",
       "      <td>1.0</td>\n",
       "      <td>0</td>\n",
       "      <td>0</td>\n",
       "      <td>Chinese, North Indian, Fast Food</td>\n",
       "      <td>1.0</td>\n",
       "      <td>1</td>\n",
       "    </tr>\n",
       "    <tr>\n",
       "      <th>9695</th>\n",
       "      <td>2300497.0</td>\n",
       "      <td>Atmosphere Grill Cafe Sheesha</td>\n",
       "      <td>1.0</td>\n",
       "      <td>Kanpur</td>\n",
       "      <td>3.6</td>\n",
       "      <td>0.0</td>\n",
       "      <td>34.0</td>\n",
       "      <td>1.0</td>\n",
       "      <td>0</td>\n",
       "      <td>0</td>\n",
       "      <td>Indian, Chinese, Continental</td>\n",
       "      <td>1.0</td>\n",
       "      <td>1</td>\n",
       "    </tr>\n",
       "    <tr>\n",
       "      <th>9696</th>\n",
       "      <td>18312106.0</td>\n",
       "      <td>UrbanCrave</td>\n",
       "      <td>1.0</td>\n",
       "      <td>Kanpur</td>\n",
       "      <td>3.9</td>\n",
       "      <td>0.0</td>\n",
       "      <td>127.0</td>\n",
       "      <td>1.0</td>\n",
       "      <td>0</td>\n",
       "      <td>0</td>\n",
       "      <td>Cafe, Continental, Desserts, Ice Cream, Italia...</td>\n",
       "      <td>1.0</td>\n",
       "      <td>1</td>\n",
       "    </tr>\n",
       "    <tr>\n",
       "      <th>9697</th>\n",
       "      <td>3900245.0</td>\n",
       "      <td>Deena Chat Bhandar</td>\n",
       "      <td>1.0</td>\n",
       "      <td>Varanasi</td>\n",
       "      <td>3.8</td>\n",
       "      <td>0.0</td>\n",
       "      <td>78.0</td>\n",
       "      <td>1.0</td>\n",
       "      <td>0</td>\n",
       "      <td>0</td>\n",
       "      <td>Street Food</td>\n",
       "      <td>1.0</td>\n",
       "      <td>1</td>\n",
       "    </tr>\n",
       "    <tr>\n",
       "      <th>9698</th>\n",
       "      <td>18246202.0</td>\n",
       "      <td>VNS Live Studio</td>\n",
       "      <td>1.0</td>\n",
       "      <td>Varanasi</td>\n",
       "      <td>3.5</td>\n",
       "      <td>0.0</td>\n",
       "      <td>109.0</td>\n",
       "      <td>1.0</td>\n",
       "      <td>0</td>\n",
       "      <td>0</td>\n",
       "      <td>Chinese, North Indian</td>\n",
       "      <td>1.0</td>\n",
       "      <td>1</td>\n",
       "    </tr>\n",
       "  </tbody>\n",
       "</table>\n",
       "<p>9699 rows × 13 columns</p>\n",
       "</div>"
      ],
      "text/plain": [
       "      Restaurant ID                Restaurant Name  Country Code_x      City  \\\n",
       "0         7402935.0                           Skye            94.0   Jakarta   \n",
       "1         7410290.0       Satoo - Hotel Shangri-La            94.0   Jakarta   \n",
       "2         7420899.0                     Sushi Masa            94.0   Jakarta   \n",
       "3         7421967.0                 3 Wise Monkeys            94.0   Jakarta   \n",
       "4         7422489.0    Avec Moi Restaurant and Bar            94.0   Jakarta   \n",
       "...             ...                            ...             ...       ...   \n",
       "9694     18279289.0           BMG - All Day Dining             1.0  Dehradun   \n",
       "9695      2300497.0  Atmosphere Grill Cafe Sheesha             1.0    Kanpur   \n",
       "9696     18312106.0                     UrbanCrave             1.0    Kanpur   \n",
       "9697      3900245.0             Deena Chat Bhandar             1.0  Varanasi   \n",
       "9698     18246202.0                VNS Live Studio             1.0  Varanasi   \n",
       "\n",
       "      Aggregate rating  Average Cost for two   Votes  Price range  \\\n",
       "0                  4.1              800000.0  1498.0          3.0   \n",
       "1                  4.6              800000.0   873.0          3.0   \n",
       "2                  4.9              500000.0   605.0          3.0   \n",
       "3                  4.2              450000.0   395.0          3.0   \n",
       "4                  4.3              350000.0   243.0          3.0   \n",
       "...                ...                   ...     ...          ...   \n",
       "9694               4.3                   0.0    63.0          1.0   \n",
       "9695               3.6                   0.0    34.0          1.0   \n",
       "9696               3.9                   0.0   127.0          1.0   \n",
       "9697               3.8                   0.0    78.0          1.0   \n",
       "9698               3.5                   0.0   109.0          1.0   \n",
       "\n",
       "      Has Table booking  Has Online delivery  \\\n",
       "0                     0                    0   \n",
       "1                     0                    0   \n",
       "2                     0                    0   \n",
       "3                     0                    0   \n",
       "4                     0                    0   \n",
       "...                 ...                  ...   \n",
       "9694                  0                    0   \n",
       "9695                  0                    0   \n",
       "9696                  0                    0   \n",
       "9697                  0                    0   \n",
       "9698                  0                    0   \n",
       "\n",
       "                                               Cuisines  Country Code_y  Count  \n",
       "0                                  Italian, Continental            94.0      1  \n",
       "1                            Asian, Indonesian, Western            94.0      1  \n",
       "2                                       Sushi, Japanese            94.0      1  \n",
       "3                                              Japanese            94.0      1  \n",
       "4                                       French, Western            94.0      1  \n",
       "...                                                 ...             ...    ...  \n",
       "9694                   Chinese, North Indian, Fast Food             1.0      1  \n",
       "9695                       Indian, Chinese, Continental             1.0      1  \n",
       "9696  Cafe, Continental, Desserts, Ice Cream, Italia...             1.0      1  \n",
       "9697                                        Street Food             1.0      1  \n",
       "9698                              Chinese, North Indian             1.0      1  \n",
       "\n",
       "[9699 rows x 13 columns]"
      ]
     },
     "execution_count": 733,
     "metadata": {},
     "output_type": "execute_result"
    }
   ],
   "source": [
    "rs_df = rating_df.merge(max_rate,left_on='Restaurant Name',right_on='Restaurant Name',how='left')     # rs_df represents rating_scale_dataframe\n",
    "\n",
    "rs_df"
   ]
  },
  {
   "cell_type": "code",
   "execution_count": 736,
   "id": "7036c9b0-ac08-448b-95f1-7aefe48e004a",
   "metadata": {},
   "outputs": [
    {
     "data": {
      "text/html": [
       "<div>\n",
       "<style scoped>\n",
       "    .dataframe tbody tr th:only-of-type {\n",
       "        vertical-align: middle;\n",
       "    }\n",
       "\n",
       "    .dataframe tbody tr th {\n",
       "        vertical-align: top;\n",
       "    }\n",
       "\n",
       "    .dataframe thead th {\n",
       "        text-align: right;\n",
       "    }\n",
       "</style>\n",
       "<table border=\"1\" class=\"dataframe\">\n",
       "  <thead>\n",
       "    <tr style=\"text-align: right;\">\n",
       "      <th></th>\n",
       "      <th>Count</th>\n",
       "      <th>Aggregate rating</th>\n",
       "    </tr>\n",
       "  </thead>\n",
       "  <tbody>\n",
       "    <tr>\n",
       "      <th>Count</th>\n",
       "      <td>1.000000</td>\n",
       "      <td>0.016339</td>\n",
       "    </tr>\n",
       "    <tr>\n",
       "      <th>Aggregate rating</th>\n",
       "      <td>0.016339</td>\n",
       "      <td>1.000000</td>\n",
       "    </tr>\n",
       "  </tbody>\n",
       "</table>\n",
       "</div>"
      ],
      "text/plain": [
       "                     Count  Aggregate rating\n",
       "Count             1.000000          0.016339\n",
       "Aggregate rating  0.016339          1.000000"
      ]
     },
     "execution_count": 736,
     "metadata": {},
     "output_type": "execute_result"
    },
    {
     "data": {
      "image/png": "[encoded data removed]",
      "text/plain": [
       "<Figure size 432x288 with 1 Axes>"
      ]
     },
     "metadata": {
      "needs_background": "light"
     },
     "output_type": "display_data"
    }
   ],
   "source": [
    "sns.regplot(x='Count',y='Aggregate rating',data = rs_df)\n",
    "rs_df[[\"Count\", \"Aggregate rating\"]].corr()\n",
    "#Number of cuisines is not a good factor to decide the rating of a restaurant"
   ]
  },
  {
   "cell_type": "code",
   "execution_count": 738,
   "id": "f7681fd8-5043-4497-be9e-1cf986f81367",
   "metadata": {},
   "outputs": [
    {
     "data": {
      "text/html": [
       "<div>\n",
       "<style scoped>\n",
       "    .dataframe tbody tr th:only-of-type {\n",
       "        vertical-align: middle;\n",
       "    }\n",
       "\n",
       "    .dataframe tbody tr th {\n",
       "        vertical-align: top;\n",
       "    }\n",
       "\n",
       "    .dataframe thead th {\n",
       "        text-align: right;\n",
       "    }\n",
       "</style>\n",
       "<table border=\"1\" class=\"dataframe\">\n",
       "  <thead>\n",
       "    <tr style=\"text-align: right;\">\n",
       "      <th></th>\n",
       "      <th>Average Cost for two</th>\n",
       "      <th>Aggregate rating</th>\n",
       "    </tr>\n",
       "  </thead>\n",
       "  <tbody>\n",
       "    <tr>\n",
       "      <th>Average Cost for two</th>\n",
       "      <td>1.000000</td>\n",
       "      <td>0.051211</td>\n",
       "    </tr>\n",
       "    <tr>\n",
       "      <th>Aggregate rating</th>\n",
       "      <td>0.051211</td>\n",
       "      <td>1.000000</td>\n",
       "    </tr>\n",
       "  </tbody>\n",
       "</table>\n",
       "</div>"
      ],
      "text/plain": [
       "                      Average Cost for two  Aggregate rating\n",
       "Average Cost for two              1.000000          0.051211\n",
       "Aggregate rating                  0.051211          1.000000"
      ]
     },
     "execution_count": 738,
     "metadata": {},
     "output_type": "execute_result"
    },
    {
     "data": {
      "image/png": "[encoded data removed]",
      "text/plain": [
       "<Figure size 432x288 with 1 Axes>"
      ]
     },
     "metadata": {
      "needs_background": "light"
     },
     "output_type": "display_data"
    }
   ],
   "source": [
    "sns.regplot(x='Average Cost for two',y='Aggregate rating',data=rs_df)\n",
    "rs_df[['Average Cost for two', 'Aggregate rating']].corr()\n",
    "#Average cost for two is a weak positive factor to decide the rating of a restaurant"
   ]
  },
  {
   "cell_type": "code",
   "execution_count": 740,
   "id": "6ac2b203-e33c-4ae6-b789-b419b8170814",
   "metadata": {},
   "outputs": [
    {
     "data": {
      "text/html": [
       "<div>\n",
       "<style scoped>\n",
       "    .dataframe tbody tr th:only-of-type {\n",
       "        vertical-align: middle;\n",
       "    }\n",
       "\n",
       "    .dataframe tbody tr th {\n",
       "        vertical-align: top;\n",
       "    }\n",
       "\n",
       "    .dataframe thead th {\n",
       "        text-align: right;\n",
       "    }\n",
       "</style>\n",
       "<table border=\"1\" class=\"dataframe\">\n",
       "  <thead>\n",
       "    <tr style=\"text-align: right;\">\n",
       "      <th></th>\n",
       "      <th>Votes</th>\n",
       "      <th>Aggregate rating</th>\n",
       "    </tr>\n",
       "  </thead>\n",
       "  <tbody>\n",
       "    <tr>\n",
       "      <th>Votes</th>\n",
       "      <td>1.000000</td>\n",
       "      <td>0.316106</td>\n",
       "    </tr>\n",
       "    <tr>\n",
       "      <th>Aggregate rating</th>\n",
       "      <td>0.316106</td>\n",
       "      <td>1.000000</td>\n",
       "    </tr>\n",
       "  </tbody>\n",
       "</table>\n",
       "</div>"
      ],
      "text/plain": [
       "                     Votes  Aggregate rating\n",
       "Votes             1.000000          0.316106\n",
       "Aggregate rating  0.316106          1.000000"
      ]
     },
     "execution_count": 740,
     "metadata": {},
     "output_type": "execute_result"
    },
    {
     "data": {
      "image/png": "[encoded data removed]",
      "text/plain": [
       "<Figure size 432x288 with 1 Axes>"
      ]
     },
     "metadata": {
      "needs_background": "light"
     },
     "output_type": "display_data"
    }
   ],
   "source": [
    "sns.regplot(x='Votes',y='Aggregate rating',data=rs_df)\n",
    "rs_df[['Votes','Aggregate rating']].corr()\n",
    "##Average cost for two can be a factor to decide the rating of a restaurant"
   ]
  },
  {
   "cell_type": "code",
   "execution_count": 744,
   "id": "0c3bdb02-8ca8-4949-839f-9f36034b0b65",
   "metadata": {
    "tags": []
   },
   "outputs": [
    {
     "data": {
      "text/html": [
       "<div>\n",
       "<style scoped>\n",
       "    .dataframe tbody tr th:only-of-type {\n",
       "        vertical-align: middle;\n",
       "    }\n",
       "\n",
       "    .dataframe tbody tr th {\n",
       "        vertical-align: top;\n",
       "    }\n",
       "\n",
       "    .dataframe thead th {\n",
       "        text-align: right;\n",
       "    }\n",
       "</style>\n",
       "<table border=\"1\" class=\"dataframe\">\n",
       "  <thead>\n",
       "    <tr style=\"text-align: right;\">\n",
       "      <th></th>\n",
       "      <th>Price range</th>\n",
       "      <th>Aggregate rating</th>\n",
       "    </tr>\n",
       "  </thead>\n",
       "  <tbody>\n",
       "    <tr>\n",
       "      <th>Price range</th>\n",
       "      <td>1.0000</td>\n",
       "      <td>0.4435</td>\n",
       "    </tr>\n",
       "    <tr>\n",
       "      <th>Aggregate rating</th>\n",
       "      <td>0.4435</td>\n",
       "      <td>1.0000</td>\n",
       "    </tr>\n",
       "  </tbody>\n",
       "</table>\n",
       "</div>"
      ],
      "text/plain": [
       "                  Price range  Aggregate rating\n",
       "Price range            1.0000            0.4435\n",
       "Aggregate rating       0.4435            1.0000"
      ]
     },
     "execution_count": 744,
     "metadata": {},
     "output_type": "execute_result"
    },
    {
     "data": {
      "image/png": "[encoded data removed]",
      "text/plain": [
       "<Figure size 432x288 with 1 Axes>"
      ]
     },
     "metadata": {
      "needs_background": "light"
     },
     "output_type": "display_data"
    }
   ],
   "source": [
    "sns.regplot(x='Price range',y='Aggregate rating',data=rs_df)\n",
    "rs_df[['Price range','Aggregate rating']].corr()\n",
    "##Price range can be a factor to decide the rating of a restaurant"
   ]
  },
  {
   "cell_type": "code",
   "execution_count": 746,
   "id": "677cb7a7-493b-4066-adf5-7718ce224c4f",
   "metadata": {},
   "outputs": [
    {
     "data": {
      "text/html": [
       "<div>\n",
       "<style scoped>\n",
       "    .dataframe tbody tr th:only-of-type {\n",
       "        vertical-align: middle;\n",
       "    }\n",
       "\n",
       "    .dataframe tbody tr th {\n",
       "        vertical-align: top;\n",
       "    }\n",
       "\n",
       "    .dataframe thead th {\n",
       "        text-align: right;\n",
       "    }\n",
       "</style>\n",
       "<table border=\"1\" class=\"dataframe\">\n",
       "  <thead>\n",
       "    <tr style=\"text-align: right;\">\n",
       "      <th></th>\n",
       "      <th>Has Table booking</th>\n",
       "      <th>Aggregate rating</th>\n",
       "    </tr>\n",
       "  </thead>\n",
       "  <tbody>\n",
       "    <tr>\n",
       "      <th>Has Table booking</th>\n",
       "      <td>1.000000</td>\n",
       "      <td>0.188497</td>\n",
       "    </tr>\n",
       "    <tr>\n",
       "      <th>Aggregate rating</th>\n",
       "      <td>0.188497</td>\n",
       "      <td>1.000000</td>\n",
       "    </tr>\n",
       "  </tbody>\n",
       "</table>\n",
       "</div>"
      ],
      "text/plain": [
       "                   Has Table booking  Aggregate rating\n",
       "Has Table booking           1.000000          0.188497\n",
       "Aggregate rating            0.188497          1.000000"
      ]
     },
     "execution_count": 746,
     "metadata": {},
     "output_type": "execute_result"
    },
    {
     "data": {
      "image/png": "[encoded data removed]",
      "text/plain": [
       "<Figure size 432x288 with 1 Axes>"
      ]
     },
     "metadata": {
      "needs_background": "light"
     },
     "output_type": "display_data"
    }
   ],
   "source": [
    "sns.regplot(x='Has Table booking',y='Aggregate rating',data=rs_df)\n",
    "rs_df[['Has Table booking','Aggregate rating']].corr()\n",
    "##Table booking can be a factor to decide the rating of a restaurant"
   ]
  },
  {
   "cell_type": "markdown",
   "id": "aee23f3b-3ed2-4f18-bb44-5a5d887f9e60",
   "metadata": {},
   "source": [
    "No Single Factor affects the Ratings Strongly as they all have fairly low Correlation  Factors. However, each factor; Restaurant Count, Cost, Price range, and availability of Table Bookings all do have slight positive correlations (potentially effect) on Restaurant Rating."
   ]
  },
  {
   "cell_type": "code",
   "execution_count": null,
   "id": "9b81eef3-e973-42f1-9577-6f0daa7de94a",
   "metadata": {},
   "outputs": [],
   "source": []
  },
  {
   "cell_type": "code",
   "execution_count": null,
   "id": "bc87d9b1-6758-4813-bca3-d61ac49bf9f4",
   "metadata": {},
   "outputs": [],
   "source": []
  },
  {
   "cell_type": "code",
   "execution_count": null,
   "id": "813138a9-fccb-40a0-8e5c-469c5bde8ed3",
   "metadata": {},
   "outputs": [],
   "source": []
  },
  {
   "cell_type": "code",
   "execution_count": null,
   "id": "9833a1ef-3d81-48af-8306-73c36ecc319d",
   "metadata": {},
   "outputs": [],
   "source": []
  }
 ],
 "metadata": {
  "kernelspec": {
   "display_name": "Python 3 (ipykernel)",
   "language": "python",
   "name": "python3"
  },
  "language_info": {
   "codemirror_mode": {
    "name": "ipython",
    "version": 3
   },
   "file_extension": ".py",
   "mimetype": "text/x-python",
   "name": "python",
   "nbconvert_exporter": "python",
   "pygments_lexer": "ipython3",
   "version": "3.9.7"
  }
 },
 "nbformat": 4,
 "nbformat_minor": 5
}
